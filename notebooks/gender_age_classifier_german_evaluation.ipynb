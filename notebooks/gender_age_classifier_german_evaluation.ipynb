{
 "cells": [
  {
   "cell_type": "code",
   "execution_count": 1,
   "id": "14cf3fc4-f041-417f-82e8-dfa58e51b84f",
   "metadata": {},
   "outputs": [],
   "source": [
    "import numpy as np\n",
    "import pandas as pd\n",
    "import os\n",
    "from transformers import pipeline, set_seed\n",
    "import requests\n",
    "import torch\n",
    "import torch.nn as nn\n",
    "import torch.nn.functional as F\n",
    "import torch.optim as optim\n",
    "import transformers\n",
    "from transformers import AutoTokenizer, AutoModelForSequenceClassification, Trainer, TrainingArguments\n",
    "import time\n",
    "from sklearn.model_selection import train_test_split"
   ]
  },
  {
   "cell_type": "code",
   "execution_count": 2,
   "id": "e16e1e82-d14c-4e3c-b7ae-3874d58cc94e",
   "metadata": {},
   "outputs": [],
   "source": [
    "DEVICE = torch.device('cuda' if torch.cuda.is_available() else 'cpu')"
   ]
  },
  {
   "cell_type": "code",
   "execution_count": 3,
   "id": "e420dad1-3236-44ad-941e-e921d2fb47ce",
   "metadata": {},
   "outputs": [],
   "source": [
    "def batch_tokenize(X_text, tokenizer, max_length=512, batch_size=64):\n",
    "\n",
    "    # Dictionary to hold tokenized batches\n",
    "    encodings = {}\n",
    "\n",
    "    # Calculate the number of batches needed\n",
    "    num_batches = len(X_text) // batch_size + int(len(X_text) % batch_size > 0)\n",
    "\n",
    "    # Iterate over the data in batches\n",
    "    for i in range(num_batches):\n",
    "        batch_start = i * batch_size\n",
    "        batch_end = min(len(X_text), (i + 1) * batch_size)\n",
    "\n",
    "        # Tokenize the current batch of texts\n",
    "        batch_encodings = tokenizer.batch_encode_plus(\n",
    "            list(X_text[batch_start:batch_end]),\n",
    "            padding='max_length',\n",
    "            truncation=True,\n",
    "            max_length=max_length\n",
    "        )\n",
    "\n",
    "        # Merge the batch tokenizations into the main dictionary\n",
    "        for key, val in batch_encodings.items():\n",
    "            if key not in encodings:\n",
    "                encodings[key] = []\n",
    "            encodings[key].extend(val)\n",
    "\n",
    "    return encodings"
   ]
  },
  {
   "cell_type": "code",
   "execution_count": 4,
   "id": "4dbf686c-6b1b-4fbe-9428-c4a4cbd520f5",
   "metadata": {},
   "outputs": [],
   "source": [
    "class TweetDataset(torch.utils.data.Dataset):\n",
    "    def __init__(self, encodings, labels):\n",
    "        self.encodings = encodings\n",
    "        self.labels = labels\n",
    "\n",
    "    def __getitem__(self, idx):\n",
    "        item = {key: torch.tensor(val[idx]) for key, val in self.encodings.items()}\n",
    "        item['labels'] = torch.tensor(self.labels[idx])\n",
    "        return item\n",
    "\n",
    "    def __len__(self):\n",
    "        return len(self.labels)"
   ]
  },
  {
   "cell_type": "code",
   "execution_count": 5,
   "id": "0cb9cea1-4af8-4e1d-b60f-a52482f107a8",
   "metadata": {},
   "outputs": [],
   "source": [
    "from sklearn.metrics import accuracy_score, precision_score, recall_score, f1_score\n",
    "\n",
    "def compute_metrics(model, data_loader, device, average):\n",
    "    with torch.no_grad():\n",
    "        all_predictions = []\n",
    "        all_labels = []\n",
    "\n",
    "        for batch_idx, batch in enumerate(data_loader):\n",
    "            input_ids = batch['input_ids'].to(device)\n",
    "            attention_mask = batch['attention_mask'].to(device)\n",
    "            labels = batch['labels'].to(device)\n",
    "\n",
    "            outputs = model(input_ids, attention_mask=attention_mask)\n",
    "            logits = outputs.logits\n",
    "\n",
    "            # Get the predicted class labels\n",
    "            predicted_labels = torch.argmax(logits, dim=1)\n",
    "\n",
    "            all_predictions.extend(predicted_labels.cpu().numpy())\n",
    "            all_labels.extend(labels.cpu().numpy())\n",
    "\n",
    "        \n",
    "        accuracy = accuracy_score(all_labels, all_predictions)\n",
    "        #precision = precision_score(all_labels, all_predictions)\n",
    "        #recall = recall_score(all_labels, all_predictions)\n",
    "        if average == 'binary':\n",
    "            f1 = f1_score(all_labels, all_predictions)\n",
    "        else:\n",
    "            f1 = f1_score(all_labels, all_predictions, average = average)\n",
    "        metrics = {'accuracy': accuracy,  'f1': f1 }\n",
    "\n",
    "        return metrics"
   ]
  },
  {
   "cell_type": "code",
   "execution_count": 2,
   "id": "b338f5f4-6fd2-43aa-9576-1ea5669da266",
   "metadata": {},
   "outputs": [],
   "source": [
    "home_dir = '/g100/home/userexternal/pbose000/'\n",
    "work_dir = '/g100_work/IscrC_mental'\n",
    "\n",
    "wdata_dir = os.path.join(work_dir, 'data')\n",
    "uc_dir = os.path.join(wdata_dir, 'user_classification')\n",
    "model_dir = os.path.join(uc_dir,'trained_models/gender')"
   ]
  },
  {
   "cell_type": "code",
   "execution_count": 3,
   "id": "f7422cf2-5d8c-4df4-939f-8e146cf7e73f",
   "metadata": {},
   "outputs": [],
   "source": [
    "# load test set from german data\n",
    "path  = os.path.join(uc_dir, 'german_data/data_for_models_german_data.pkl')\n",
    "df_test = pd.read_pickle(path)\n",
    "\n",
    "df_test['male'] = df_test['is_male'].astype(int)\n",
    "df_test['text']  = 'bio: ' + df_test['masked_bio'] + '. ' + 'tweets: ' + df_test['long_text'] \n",
    "df_test['text'] = df_test['text'].str.replace('\\r|\\n', ' ', regex=True)\n",
    "\n",
    "X_test = df_test['text'].values\n",
    "y_test = df_test['male'].values"
   ]
  },
  {
   "cell_type": "code",
   "execution_count": 41,
   "id": "d45eff04-5cde-4100-8fd4-c32395e08aac",
   "metadata": {},
   "outputs": [],
   "source": [
    "xlm_tokenizer = AutoTokenizer.from_pretrained(\"cardiffnlp/twitter-xlm-roberta-base\")\n",
    "xlm_test_encodings = batch_tokenize(X_test, xlm_tokenizer)\n",
    "xlm_test_dataset = TweetDataset(xlm_test_encodings, y_test)\n"
   ]
  },
  {
   "cell_type": "code",
   "execution_count": 42,
   "id": "b7c86657-7079-4744-adaf-027273b4b934",
   "metadata": {},
   "outputs": [],
   "source": [
    "BATCH_SIZE = 32\n",
    "\n",
    "xlm_loader = torch.utils.data.DataLoader(\n",
    "    xlm_test_dataset, \n",
    "    batch_size=BATCH_SIZE, \n",
    "    shuffle=False,\n",
    "    pin_memory=True\n",
    ")"
   ]
  },
  {
   "cell_type": "code",
   "execution_count": 10,
   "id": "3400a2ff-5b95-43aa-af4e-9b69ca315ae2",
   "metadata": {},
   "outputs": [],
   "source": [
    "def test_eval(model_path, data_loader, device, average='binary'):\n",
    "    \n",
    "    # Load the saved model\n",
    "    model = torch.load(model_path)\n",
    "    model = model.to(device)\n",
    "    \n",
    "    # Set the model to evaluation mode\n",
    "    model.eval()\n",
    "    \n",
    "    # store predicted probs\n",
    "    class_probs = []\n",
    "    with torch.no_grad():\n",
    "        for batch in data_loader:\n",
    "            input_ids = batch['input_ids'].to(device)\n",
    "            attention_mask = batch['attention_mask'].to(device)\n",
    "            \n",
    "            # Forward pass\n",
    "            outputs = model(input_ids, attention_mask=attention_mask)\n",
    "            logits = outputs['logits']\n",
    "\n",
    "            # Convert logits to probabilities\n",
    "            probabilities = F.softmax(logits, dim=1)\n",
    "            class_probs.extend(probabilities.cpu().numpy().tolist())\n",
    "            \n",
    "    # Compute the metrics\n",
    "    metrics = compute_metrics(model, data_loader, device, average=average)\n",
    "    \n",
    "    return metrics, np.array(class_probs)\n"
   ]
  },
  {
   "cell_type": "code",
   "execution_count": 11,
   "id": "c97471b7-27a6-4720-84d2-512081e8869d",
   "metadata": {},
   "outputs": [],
   "source": [
    "path_xlm =  os.path.join(model_dir ,'XLM_gender.pt')\n",
    "path_xlm_age =  os.path.join(uc_dir,'trained_models/age/XLM_age.pt')"
   ]
  },
  {
   "cell_type": "code",
   "execution_count": 44,
   "id": "a576158a-3798-4169-96f9-77f077fb0e40",
   "metadata": {},
   "outputs": [],
   "source": [
    "metrics, probs = test_eval(path_xlm, xlm_loader, DEVICE,average='macro')"
   ]
  },
  {
   "cell_type": "code",
   "execution_count": 13,
   "id": "ea861b95-7064-4bdc-87cd-1af2431b9911",
   "metadata": {},
   "outputs": [],
   "source": [
    "records = [{'user_id':x,'prob_female':y[0],'prob_male':y[1]} for x,y in zip(df_test['user_id'],probs)]"
   ]
  },
  {
   "cell_type": "code",
   "execution_count": 14,
   "id": "7144df45-c2d6-4620-b7a7-0a70a2f4728b",
   "metadata": {},
   "outputs": [],
   "source": [
    "df_pred = pd.DataFrame.from_records(records)"
   ]
  },
  {
   "cell_type": "code",
   "execution_count": 46,
   "id": "080cde04-cb62-4a56-b78f-9d229102f00c",
   "metadata": {},
   "outputs": [],
   "source": [
    "df_test['age_cat'] = pd.cut(df_test['age'], [0,20,30,40,150],labels=[0,1,2,3])\n",
    "y_test_age = df_test['age_cat'].values\n",
    "xlm_test_dataset_age= TweetDataset(xlm_test_encodings, y_test)\n",
    "xlm_loader_age = torch.utils.data.DataLoader(\n",
    "    xlm_test_dataset, \n",
    "    batch_size=BATCH_SIZE, \n",
    "    shuffle=False,\n",
    "    pin_memory=True\n",
    ")"
   ]
  },
  {
   "cell_type": "code",
   "execution_count": 13,
   "id": "f3e760e1-f0fc-4067-ac55-69ee5d340145",
   "metadata": {},
   "outputs": [
    {
     "data": {
      "text/html": [
       "<div>\n",
       "<style scoped>\n",
       "    .dataframe tbody tr th:only-of-type {\n",
       "        vertical-align: middle;\n",
       "    }\n",
       "\n",
       "    .dataframe tbody tr th {\n",
       "        vertical-align: top;\n",
       "    }\n",
       "\n",
       "    .dataframe thead th {\n",
       "        text-align: right;\n",
       "    }\n",
       "</style>\n",
       "<table border=\"1\" class=\"dataframe\">\n",
       "  <thead>\n",
       "    <tr style=\"text-align: right;\">\n",
       "      <th></th>\n",
       "      <th>user_id</th>\n",
       "      <th>masked_bio</th>\n",
       "      <th>age</th>\n",
       "      <th>is_male</th>\n",
       "      <th>long_text</th>\n",
       "      <th>male</th>\n",
       "      <th>text</th>\n",
       "    </tr>\n",
       "  </thead>\n",
       "  <tbody>\n",
       "    <tr>\n",
       "      <th>26</th>\n",
       "      <td>2336685730</td>\n",
       "      <td>, hat nowgorod erobert, über kiew geherrscht u...</td>\n",
       "      <td>1005</td>\n",
       "      <td>1.0</td>\n",
       "      <td>It is, what it is! Ein Seniorentreff. Der Film...</td>\n",
       "      <td>1</td>\n",
       "      <td>bio: , hat nowgorod erobert, über kiew geherrs...</td>\n",
       "    </tr>\n",
       "    <tr>\n",
       "      <th>88</th>\n",
       "      <td>3300616767</td>\n",
       "      <td>, ist eduard j., der einzig wahre, nun, nach s...</td>\n",
       "      <td>110</td>\n",
       "      <td>1.0</td>\n",
       "      <td>@Borschtel_ @FCBayern LAAAANGWEILIG!!!! #Jedua...</td>\n",
       "      <td>1</td>\n",
       "      <td>bio: , ist eduard j., der einzig wahre, nun, n...</td>\n",
       "    </tr>\n",
       "    <tr>\n",
       "      <th>108</th>\n",
       "      <td>420941203</td>\n",
       "      <td>in castro.rauxel.</td>\n",
       "      <td>982</td>\n",
       "      <td>1.0</td>\n",
       "      <td>Thilo Sarrazin provoziert bei \"Günther Jauch\" ...</td>\n",
       "      <td>1</td>\n",
       "      <td>bio:  in castro.rauxel.. tweets: Thilo Sarrazi...</td>\n",
       "    </tr>\n",
       "    <tr>\n",
       "      <th>126</th>\n",
       "      <td>899876379667439616</td>\n",
       "      <td>könig heinrich iv, geschlecht der ottonen,</td>\n",
       "      <td>967</td>\n",
       "      <td>1.0</td>\n",
       "      <td>Während ich durch #Buße dem #Anathem entgegenw...</td>\n",
       "      <td>1</td>\n",
       "      <td>bio: könig heinrich iv, geschlecht der ottonen...</td>\n",
       "    </tr>\n",
       "    <tr>\n",
       "      <th>228</th>\n",
       "      <td>1184850545015693312</td>\n",
       "      <td>i am a mother of three children. i was . addit...</td>\n",
       "      <td>115</td>\n",
       "      <td>0.0</td>\n",
       "      <td>everyone had been happy the war is over\\r\\nI h...</td>\n",
       "      <td>0</td>\n",
       "      <td>bio: i am a mother of three children. i was . ...</td>\n",
       "    </tr>\n",
       "  </tbody>\n",
       "</table>\n",
       "</div>"
      ],
      "text/plain": [
       "                 user_id                                         masked_bio  \\\n",
       "26            2336685730  , hat nowgorod erobert, über kiew geherrscht u...   \n",
       "88            3300616767  , ist eduard j., der einzig wahre, nun, nach s...   \n",
       "108            420941203                                  in castro.rauxel.   \n",
       "126   899876379667439616        könig heinrich iv, geschlecht der ottonen,    \n",
       "228  1184850545015693312  i am a mother of three children. i was . addit...   \n",
       "\n",
       "      age  is_male                                          long_text  male  \\\n",
       "26   1005      1.0  It is, what it is! Ein Seniorentreff. Der Film...     1   \n",
       "88    110      1.0  @Borschtel_ @FCBayern LAAAANGWEILIG!!!! #Jedua...     1   \n",
       "108   982      1.0  Thilo Sarrazin provoziert bei \"Günther Jauch\" ...     1   \n",
       "126   967      1.0  Während ich durch #Buße dem #Anathem entgegenw...     1   \n",
       "228   115      0.0  everyone had been happy the war is over\\r\\nI h...     0   \n",
       "\n",
       "                                                  text  \n",
       "26   bio: , hat nowgorod erobert, über kiew geherrs...  \n",
       "88   bio: , ist eduard j., der einzig wahre, nun, n...  \n",
       "108  bio:  in castro.rauxel.. tweets: Thilo Sarrazi...  \n",
       "126  bio: könig heinrich iv, geschlecht der ottonen...  \n",
       "228  bio: i am a mother of three children. i was . ...  "
      ]
     },
     "execution_count": 13,
     "metadata": {},
     "output_type": "execute_result"
    }
   ],
   "source": []
  },
  {
   "cell_type": "code",
   "execution_count": 47,
   "id": "5f6df8c1-59ce-4288-85d8-b1056c68665c",
   "metadata": {},
   "outputs": [],
   "source": [
    "metrics_age, probs_age = test_eval(path_xlm_age, xlm_loader_age, DEVICE,average='macro')"
   ]
  },
  {
   "cell_type": "code",
   "execution_count": 17,
   "id": "549f73d0-14d6-42ef-89e1-e451f0b87017",
   "metadata": {},
   "outputs": [],
   "source": [
    "records_age = [{'user_id':x,'prob_0_19':y[0],'prob_20_29':y[1],'prob_30_39':y[2],'prob_40_100':y[3]} for x,y in zip(df_test['user_id'],probs_age)]"
   ]
  },
  {
   "cell_type": "code",
   "execution_count": 18,
   "id": "f6fcc1e7-fd60-48b7-917f-b8c610130d6c",
   "metadata": {},
   "outputs": [],
   "source": [
    "df_pred_age = pd.DataFrame.from_records(records_age)\n",
    "df_pred = df_pred.merge(df_pred_age,on='user_id',how='inner',validate='1:1')"
   ]
  },
  {
   "cell_type": "code",
   "execution_count": 63,
   "id": "cba14bfa-407c-476c-a369-2cb264fe3c2d",
   "metadata": {},
   "outputs": [],
   "source": [
    "df_pred.to_pickle('/g100_work/IscrC_mental/data/user_classification/trained_models/german_age_and_gender.pkl')"
   ]
  },
  {
   "cell_type": "code",
   "execution_count": 49,
   "id": "97a1526e-ecf4-4734-8980-2258cc8d0194",
   "metadata": {},
   "outputs": [
    {
     "data": {
      "text/plain": [
       "{'accuracy': 0.8043818466353677, 'f1': 0.7119306686093689}"
      ]
     },
     "execution_count": 49,
     "metadata": {},
     "output_type": "execute_result"
    }
   ],
   "source": [
    "metrics"
   ]
  },
  {
   "cell_type": "markdown",
   "id": "88b6a365-a79e-4cdf-9967-8e8cdff06244",
   "metadata": {},
   "source": [
    "## Dutch data"
   ]
  },
  {
   "cell_type": "markdown",
   "id": "efe59d72-3997-4b97-8455-b17eaef5bf3d",
   "metadata": {},
   "source": [
    "### Gender prediction"
   ]
  },
  {
   "cell_type": "code",
   "execution_count": 21,
   "id": "18aa507d-2eb9-4e68-a582-e3e2d7a8c66b",
   "metadata": {},
   "outputs": [],
   "source": [
    "# load test set from german data\n",
    "path  = os.path.join(uc_dir, 'dutch_data/data_for_models_dutch_data.pkl')\n",
    "df_test = pd.read_pickle(path)\n",
    "\n",
    "df_test['male'] = df_test['is_male'].astype(int)\n",
    "df_test['text']  = 'bio: ' + df_test['masked_bio'] + '. ' + 'tweets: ' + df_test['long_text'] \n",
    "df_test['text'] = df_test['text'].str.replace('\\r|\\n', ' ', regex=True)\n",
    "\n",
    "X_test = df_test['text'].values\n",
    "y_test = df_test['male'].values"
   ]
  },
  {
   "cell_type": "code",
   "execution_count": 25,
   "id": "8fecaa19-216e-4e11-bd69-82c3aff1a93e",
   "metadata": {},
   "outputs": [],
   "source": [
    "xlm_tokenizer = AutoTokenizer.from_pretrained(\"cardiffnlp/twitter-xlm-roberta-base\")\n",
    "xlm_test_encodings = batch_tokenize(X_test, xlm_tokenizer)\n",
    "xlm_test_dataset = TweetDataset(xlm_test_encodings, y_test)"
   ]
  },
  {
   "cell_type": "code",
   "execution_count": 26,
   "id": "e866e8b3-280a-4823-8449-787d99a702f4",
   "metadata": {},
   "outputs": [],
   "source": [
    "BATCH_SIZE = 32\n",
    "\n",
    "xlm_loader = torch.utils.data.DataLoader(\n",
    "    xlm_test_dataset, \n",
    "    batch_size=BATCH_SIZE, \n",
    "    shuffle=False,\n",
    "    pin_memory=True\n",
    ")"
   ]
  },
  {
   "cell_type": "code",
   "execution_count": 33,
   "id": "b240320c-379e-4be7-98a9-eb94198958d7",
   "metadata": {},
   "outputs": [],
   "source": [
    "metrics, probs = test_eval(path_xlm, xlm_loader, DEVICE,average='macro')"
   ]
  },
  {
   "cell_type": "code",
   "execution_count": 28,
   "id": "101fe502-7273-4a74-b2dc-f6051361b307",
   "metadata": {},
   "outputs": [],
   "source": [
    "records = [{'user_id':x,'prob_female':y[0],'prob_male':y[1]} for x,y in zip(df_test['user_id'],probs)]"
   ]
  },
  {
   "cell_type": "code",
   "execution_count": 29,
   "id": "77d902ac-b2a9-4fae-94b3-3954bc797a22",
   "metadata": {},
   "outputs": [],
   "source": [
    "df_pred = pd.DataFrame.from_records(records)"
   ]
  },
  {
   "cell_type": "code",
   "execution_count": 31,
   "id": "a19dd1d6-2fdf-4e54-96cc-590fc8079bc8",
   "metadata": {},
   "outputs": [],
   "source": [
    "df_test['age_cat'] = pd.cut(df_test['age'], [0,20,30,40,150],labels=[0,1,2,3])\n",
    "y_test_age = df_test['age_cat'].values\n",
    "xlm_test_dataset_age= TweetDataset(xlm_test_encodings, y_test)\n",
    "xlm_loader_age = torch.utils.data.DataLoader(\n",
    "    xlm_test_dataset, \n",
    "    batch_size=BATCH_SIZE, \n",
    "    shuffle=False,\n",
    "    pin_memory=True\n",
    ")"
   ]
  },
  {
   "cell_type": "code",
   "execution_count": 32,
   "id": "8f683970-9ce5-47c2-80e1-0c8613f29cbe",
   "metadata": {},
   "outputs": [],
   "source": [
    "metrics_age, probs_age = test_eval(path_xlm_age, xlm_loader_age, DEVICE,average='macro')"
   ]
  },
  {
   "cell_type": "code",
   "execution_count": 34,
   "id": "eac7f150-ff7c-4e36-b796-3b3a9e857b43",
   "metadata": {},
   "outputs": [],
   "source": [
    "records_age = [{'user_id':x,'prob_0_19':y[0],'prob_20_29':y[1],'prob_30_39':y[2],'prob_40_100':y[3]} for x,y in zip(df_test['user_id'],probs_age)]"
   ]
  },
  {
   "cell_type": "code",
   "execution_count": 35,
   "id": "8aa5b36b-ee45-4870-b6ef-a5a7b8c21834",
   "metadata": {},
   "outputs": [],
   "source": [
    "df_pred_age = pd.DataFrame.from_records(records_age)\n",
    "df_pred = df_pred.merge(df_pred_age,on='user_id',how='inner',validate='1:1')"
   ]
  },
  {
   "cell_type": "code",
   "execution_count": 39,
   "id": "5ec258a0-a0d1-44ee-80f5-2bef2d862823",
   "metadata": {},
   "outputs": [],
   "source": [
    "df_pred.to_pickle('/g100_work/IscrC_mental/data/user_classification/trained_models/dutch_age_and_gender.pkl')"
   ]
  }
 ],
 "metadata": {
  "kernelspec": {
   "display_name": "mentalenv",
   "language": "python",
   "name": "mentalenv"
  },
  "language_info": {
   "codemirror_mode": {
    "name": "ipython",
    "version": 3
   },
   "file_extension": ".py",
   "mimetype": "text/x-python",
   "name": "python",
   "nbconvert_exporter": "python",
   "pygments_lexer": "ipython3",
   "version": "3.10.11"
  }
 },
 "nbformat": 4,
 "nbformat_minor": 5
}
