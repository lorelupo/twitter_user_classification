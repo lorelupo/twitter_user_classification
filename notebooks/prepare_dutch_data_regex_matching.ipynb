{
 "cells": [
  {
   "cell_type": "code",
   "execution_count": 1,
   "id": "7b73195b-7cf2-44c6-b8a3-fdba7994fc3e",
   "metadata": {},
   "outputs": [],
   "source": [
    "import sqlite3\n",
    "import pandas as pd\n",
    "from tqdm import tqdm \n",
    "tqdm.pandas()\n",
    "import re"
   ]
  },
  {
   "cell_type": "code",
   "execution_count": 3,
   "id": "abe87bfb-53f5-4378-8ee2-c8f60b8461e0",
   "metadata": {},
   "outputs": [],
   "source": [
    "#load dutch data for users\n",
    "db = \"/g100_scratch/userexternal/pbose000/nl/data/raw/twitter/twitter_nl.db\"\n",
    "conn = sqlite3.connect(db)\n",
    "users = pd.read_sql_query(\"SELECT id,name,screen_name,description,gemeente_code,gemeente_name FROM users\",conn)"
   ]
  },
  {
   "cell_type": "code",
   "execution_count": 4,
   "id": "01891a9e-90f8-4bb7-ac16-b158a0ac7261",
   "metadata": {},
   "outputs": [],
   "source": [
    "users = users[users.description!=''].copy()"
   ]
  },
  {
   "cell_type": "code",
   "execution_count": 5,
   "id": "c7521f89-8d6c-46ca-a1d8-e53a9445a24b",
   "metadata": {},
   "outputs": [],
   "source": [
    "df_all = pd.DataFrame()\n",
    "for regex in [\"geb[\\. ].*?([12][09][0-9][0-9])\",\n",
    "             \"geboren.+?([12][09][0-9][0-9])\",\n",
    "             \"geboren op.+?([12][09][0-9][0-9])\",\n",
    "             \"verjaardag.+?([12][09][0-9][0-9])\",\n",
    "             \"verjaardag.+?([12][09][0-9][0-9])\",\n",
    "             \"([12][09][0-9][0-9]).*?geb[\\. ]\",\n",
    "             \"([12][09][0-9][0-9]).*?geboren\",\n",
    "             \"\\*.*?([12][09][0-9][0-9])\",\n",
    "             \"([1-9][0-9]) jaar oud\"]:\n",
    "    \n",
    "    d = users.description.str.extract(regex)\n",
    "    df = users.assign(age = d.astype(\"Int64\"))\n",
    "    if regex != \"([1-9][0-9]) jaar oud\":\n",
    "        df.age = df.age\n",
    "    \n",
    "    df_all= pd.concat([df_all,df.loc[df.age.notnull()]])\n",
    "\n",
    "df_all = df_all.drop_duplicates(\"id\")"
   ]
  },
  {
   "cell_type": "markdown",
   "id": "65630cb4-db36-4781-a4cf-f4607b6823f7",
   "metadata": {},
   "source": [
    "# try tweet matching"
   ]
  },
  {
   "cell_type": "code",
   "execution_count": 6,
   "id": "16df8364-e302-4c3b-b350-5f56949a6c74",
   "metadata": {},
   "outputs": [],
   "source": [
    "AGE_DIGIT = list(range(99, 11, -1))\n",
    "\n",
    "# List of regex patterns for matching Twitter posts mentioning the age of the user\n",
    "# The patterns are built using the age expressed in digits (e.g., \"22\" for 22)\n",
    "AGE_DIGIT_PATTERNS = [\n",
    "    # Matches phrases like \"ik ben 22 jaar geworden\" (I just turned 22)\n",
    "    # but not \"toen ik 22 werd\" (when I turned 22)\n",
    "    # nor \"ik ben 22 jaar geworden van\" (I have 22 years of)\n",
    "    r\"(?<!toen\\s)(?<!toen)ik\\s*ben\\s*(\\d{2})\\s*jaar(?! op)(?! meer)(?! van)(?! de)(?! in)(?!op)(?!meer)(?!van)(?! op de)(?! op het)(?! jonger)(?! ouder)\",\n",
    "    r\"\\bik\\s*word\\s*(\\d{2})\\s*jaar(?! op)(?! meer)(?! van)(?! de)(?! in)(?!op)(?!meer)(?!van)(?! op de)(?! op het)(?! ouder)(?! jonger)\",\n",
    "    # Matches phrases like \"ik word 22 jaar\" (I am turning 22 years old)\n",
    "    r\"\\bik\\s*word\\s*(\\d{2})\\s*jaar(?! dan)(?! op)(?! meer)(?! van)(?! de)(?! in)(?!meer)(?!dan)\",\n",
    "    # Matches phrases like \"mijn 22 verjaardag\" (my 22nd birthday)\n",
    "    r\"mijn\\s*(\\d{2})\\s*verjaardag\",\n",
    "    # Matches phrases like \"ik ben een 22-jarige\" (I am a 22-year-old...)\n",
    "    r\"\\bik\\s*ben\\s*een?\\s*(\\d{2})\\s*jarige\"\n",
    "]\n",
    "\n",
    "YEAR_OF_BIRTH_PATTERNS = [\n",
    "    # Matches sentences like \"ik ben geboren in 1993/93/'93\" (I was born in 1993)\n",
    "    r\"\\bik\\s*ben\\s*geboren\\s*in\\s*(20[0-1][0-9]|19[0-9][0-9]|\\D\\d{2}\\s|\\D\\d{2}$)\",\n",
    "]\n",
    "\n",
    "\n",
    "\n",
    "def tweet_user_age(tweet):\n",
    "    \"\"\"\n",
    "    Returns the age of the user who posted the tweet, if the tweet contains a mention of the user's age.\n",
    "    TODO: the age returned by this function should be compared with the creation date of the tweet.\n",
    "    \"\"\"\n",
    "    if len(tweet) > 0:\n",
    "        # check if the tweet contains a double digit number, but not in a quoted text\n",
    "        if re.search(r\"\\d{2}\", tweet):\n",
    "            if not re.search(r\"\\\".*\\d{2}.*\\\"\", tweet) \\\n",
    "                and not re.search(r\"\\“.*\\d{2}.*\\”\", tweet) \\\n",
    "                and not re.search(r\"\\«.*\\d{2}.*\\»\", tweet):\n",
    "\n",
    "                # search for age patterns\n",
    "                for i, pattern in enumerate(AGE_DIGIT_PATTERNS):\n",
    "                    matches = re.findall(pattern, tweet, flags=re.IGNORECASE)\n",
    "                    if matches:\n",
    "                        return {\"tweet\": tweet, \"regex_type\": \"age_digit\", \"regex_idx\": i, \"age\": int(matches[0])}\n",
    "\n",
    "                # search for year of birth patterns\n",
    "                for i, pattern in enumerate(YEAR_OF_BIRTH_PATTERNS):\n",
    "                    matches = re.findall(pattern, tweet, flags=re.IGNORECASE)\n",
    "                    if matches:\n",
    "                        birth_year = re.sub('[^0-9]','', matches[0])\n",
    "                        # if only a double digit year is retrieved, then attach 19 or 20 to it\n",
    "                        if len(birth_year) == 2:\n",
    "                            if int(birth_year) < 20:\n",
    "                                birth_year = \"20\" + birth_year\n",
    "                            else:\n",
    "                                birth_year = \"19\" + birth_year\n",
    "                        return {\"tweet\": tweet, \"regex_type\": \"birth_year\", \"regex_idx\": i, \"age\": int(birth_year)}\n",
    "\n",
    "    return {\"regex_type\": None, \"age\": None}\n"
   ]
  },
  {
   "cell_type": "code",
   "execution_count": 7,
   "id": "a6b1733c-bfcf-4069-b210-3c7cbb609192",
   "metadata": {},
   "outputs": [],
   "source": [
    "#get length of db\n",
    "cur = conn.cursor()\n",
    "cur.execute(\"SELECT COUNT(*) FROM tweets;\")\n",
    "n = cur.fetchone()[0]"
   ]
  },
  {
   "cell_type": "code",
   "execution_count": 8,
   "id": "031d6794-606e-4b8a-959b-82ffcde4d687",
   "metadata": {},
   "outputs": [
    {
     "name": "stdout",
     "output_type": "stream",
     "text": [
      "Percent 0:\n"
     ]
    },
    {
     "name": "stderr",
     "output_type": "stream",
     "text": [
      "100%|██████████| 10000000/10000000 [01:20<00:00, 124434.97it/s]\n"
     ]
    },
    {
     "name": "stdout",
     "output_type": "stream",
     "text": [
      "Percent 9:\n"
     ]
    },
    {
     "name": "stderr",
     "output_type": "stream",
     "text": [
      "100%|██████████| 10000000/10000000 [01:20<00:00, 123892.84it/s]\n"
     ]
    },
    {
     "name": "stdout",
     "output_type": "stream",
     "text": [
      "Percent 19:\n"
     ]
    },
    {
     "name": "stderr",
     "output_type": "stream",
     "text": [
      "100%|██████████| 10000000/10000000 [01:17<00:00, 128825.09it/s]\n"
     ]
    },
    {
     "name": "stdout",
     "output_type": "stream",
     "text": [
      "Percent 29:\n"
     ]
    },
    {
     "name": "stderr",
     "output_type": "stream",
     "text": [
      "100%|██████████| 10000000/10000000 [01:15<00:00, 133104.64it/s]\n"
     ]
    },
    {
     "name": "stdout",
     "output_type": "stream",
     "text": [
      "Percent 38:\n"
     ]
    },
    {
     "name": "stderr",
     "output_type": "stream",
     "text": [
      "100%|██████████| 10000000/10000000 [01:19<00:00, 126207.99it/s]\n"
     ]
    },
    {
     "name": "stdout",
     "output_type": "stream",
     "text": [
      "Percent 48:\n"
     ]
    },
    {
     "name": "stderr",
     "output_type": "stream",
     "text": [
      "100%|██████████| 10000000/10000000 [01:18<00:00, 126729.30it/s]\n"
     ]
    },
    {
     "name": "stdout",
     "output_type": "stream",
     "text": [
      "Percent 58:\n"
     ]
    },
    {
     "name": "stderr",
     "output_type": "stream",
     "text": [
      "100%|██████████| 10000000/10000000 [01:21<00:00, 123231.45it/s]\n"
     ]
    },
    {
     "name": "stdout",
     "output_type": "stream",
     "text": [
      "Percent 67:\n"
     ]
    },
    {
     "name": "stderr",
     "output_type": "stream",
     "text": [
      "100%|██████████| 10000000/10000000 [01:15<00:00, 132566.50it/s]\n"
     ]
    },
    {
     "name": "stdout",
     "output_type": "stream",
     "text": [
      "Percent 77:\n"
     ]
    },
    {
     "name": "stderr",
     "output_type": "stream",
     "text": [
      "100%|██████████| 10000000/10000000 [01:15<00:00, 133251.86it/s]\n"
     ]
    },
    {
     "name": "stdout",
     "output_type": "stream",
     "text": [
      "Percent 87:\n"
     ]
    },
    {
     "name": "stderr",
     "output_type": "stream",
     "text": [
      "100%|██████████| 10000000/10000000 [01:15<00:00, 132200.63it/s]\n"
     ]
    },
    {
     "name": "stdout",
     "output_type": "stream",
     "text": [
      "Percent 96:\n"
     ]
    },
    {
     "name": "stderr",
     "output_type": "stream",
     "text": [
      "100%|██████████| 3225667/3225667 [00:25<00:00, 128340.81it/s]\n"
     ]
    }
   ],
   "source": [
    "chunksize = 10000000\n",
    "full_df = pd.DataFrame()\n",
    "\n",
    "#loop over db and extract ages\n",
    "for x in range(0,n,chunksize):\n",
    "    print(f'Percent {int(x/n*100)}:')\n",
    "    tweets = pd.read_sql_query(f\"SELECT user_id,id,created_at,full_text FROM tweets LIMIT {chunksize} OFFSET {x}\",conn)\n",
    "    ages = pd.DataFrame.from_records(tweets['full_text'].progress_apply(tweet_user_age))\n",
    "    tweets = tweets.merge(ages,left_index=True,right_index=True)\n",
    "    tweets = tweets[tweets.age.notna()]\n",
    "    tweets = tweets[-tweets.full_text.str.startswith(\"RT @\")]\n",
    "    full_df = pd.concat([full_df,tweets[['user_id','id','created_at','full_text','regex_type','age']]])"
   ]
  },
  {
   "cell_type": "code",
   "execution_count": 14,
   "id": "a9df2c67-ae93-42a1-9967-71fc26104b00",
   "metadata": {},
   "outputs": [],
   "source": [
    "full_df['date'] = pd.to_datetime(full_df['created_at'])\n",
    "full_df['year'] = full_df['date'].dt.year"
   ]
  },
  {
   "cell_type": "code",
   "execution_count": 21,
   "id": "dd290b30-f455-4f9d-a9f0-d72d41c8340f",
   "metadata": {},
   "outputs": [],
   "source": [
    "full_df.loc[full_df.regex_type=='age_digit','birthyear'] = full_df['year']-full_df['age']\n",
    "full_df.loc[full_df.regex_type=='birth_year','birthyear'] = full_df['age']\n",
    "full_df = full_df[-full_df.duplicated('user_id',keep=False)]"
   ]
  },
  {
   "cell_type": "code",
   "execution_count": 43,
   "id": "9bcaf074-ba70-4a96-b90a-367aad8710e0",
   "metadata": {},
   "outputs": [],
   "source": [
    "#find the latest tweet of the user\n",
    "users = full_df.user_id.tolist()\n",
    "bio_users = df_all.id.tolist()\n",
    "all_users = users+bio_users"
   ]
  },
  {
   "cell_type": "code",
   "execution_count": 47,
   "id": "cdc6b173-4f37-4e82-ab80-f16134b72570",
   "metadata": {},
   "outputs": [],
   "source": [
    "tweets = pd.read_sql_query(f\"SELECT user_id,id,created_at,full_text FROM tweets WHERE user_id IN ({','.join([str(x) for x in all_users])})\",conn)\n",
    "tweets['date'] = pd.to_datetime(tweets['created_at'])"
   ]
  },
  {
   "cell_type": "code",
   "execution_count": 70,
   "id": "79155f74-aded-430f-90c7-d963f66aa186",
   "metadata": {},
   "outputs": [],
   "source": [
    "latest_tweets = tweets.groupby('user_id').agg({'date':max}).reset_index()"
   ]
  },
  {
   "cell_type": "code",
   "execution_count": 71,
   "id": "f1173c4a-ac70-478f-b352-91095d10ddcb",
   "metadata": {},
   "outputs": [],
   "source": [
    "latest_tweets['year_last_tweet'] = latest_tweets.date.dt.year"
   ]
  },
  {
   "cell_type": "code",
   "execution_count": 73,
   "id": "56300059-e0e5-41aa-b4ed-1a2d10f78c83",
   "metadata": {},
   "outputs": [],
   "source": [
    "full_df = full_df.merge(latest_tweets[['user_id','year_last_tweet']],on='user_id',how='inner')"
   ]
  },
  {
   "cell_type": "code",
   "execution_count": 75,
   "id": "c4535d75-2c85-4221-97b5-9bae8083a96b",
   "metadata": {},
   "outputs": [],
   "source": [
    "full_df['age']=full_df['year_last_tweet']-full_df['birthyear']"
   ]
  },
  {
   "cell_type": "code",
   "execution_count": 86,
   "id": "0972f7a6-e648-4cf0-8008-ec132133d428",
   "metadata": {},
   "outputs": [],
   "source": [
    "df_all = df_all.merge(latest_tweets[['user_id','year_last_tweet']],left_on='id',right_on='user_id',how='inner')"
   ]
  },
  {
   "cell_type": "code",
   "execution_count": 89,
   "id": "b21bafd7-cd17-4736-9f8f-01ed93387cba",
   "metadata": {},
   "outputs": [],
   "source": [
    "df_all.loc[df_all.age<1000,'age_correct'] = df_all.age\n",
    "df_all.loc[df_all.age>1000,'age_correct'] = df_all.year_last_tweet - df_all.age\n",
    "df_all['age'] = df_all.age_correct\n",
    "df_all['birthyear'] = df_all['year_last_tweet']- df_all['age']"
   ]
  },
  {
   "cell_type": "code",
   "execution_count": 94,
   "id": "c150967e-4810-4ef3-8fc8-1c467eb2fa2d",
   "metadata": {},
   "outputs": [],
   "source": [
    "df_age = pd.DataFrame()\n",
    "df_age = pd.concat([df_age,df_all[['user_id','age','birthyear']]])\n",
    "df_age = pd.concat([df_age,full_df[['user_id','age','birthyear']]])"
   ]
  },
  {
   "cell_type": "code",
   "execution_count": 95,
   "id": "a011bba1-9e7f-44c1-8b5a-7baf01c8effe",
   "metadata": {},
   "outputs": [],
   "source": [
    "df_age.to_pickle(\"/g100_scratch/userexternal/pbose000/age_nl.pkl\")"
   ]
  },
  {
   "cell_type": "code",
   "execution_count": 11,
   "id": "779297b9-943b-4b01-aeee-60e8c5442946",
   "metadata": {},
   "outputs": [],
   "source": [
    "#populate the user ids with their name, location and description\n",
    "user_info = pd.read_sql_query(f\"SELECT id,name,description,gemeente_code,gemeente_name FROM users WHERE id IN ({','.join([str(x) for x in df_age.user_id.tolist()])})\",conn)"
   ]
  },
  {
   "cell_type": "code",
   "execution_count": 12,
   "id": "a566a0d7-ab72-4547-abd5-7a492255c385",
   "metadata": {},
   "outputs": [],
   "source": [
    "df_age = df_age.merge(user_info,left_on='user_id',right_on='id')\n",
    "del df_age['id']"
   ]
  },
  {
   "cell_type": "code",
   "execution_count": 13,
   "id": "1d896df9-a430-499c-a861-108332f8682d",
   "metadata": {},
   "outputs": [],
   "source": [
    "import gender_guesser.detector as gender\n",
    "gender_detector = gender.Detector()\n",
    "def detect_gender(name):\n",
    "    firstname = name.split()[0].capitalize()\n",
    "    g = gender_detector.get_gender(firstname)\n",
    "    g = g.replace(\"mostly_\", \"\")\n",
    "    g = g.replace(\"andy\", \"unknown\")\n",
    "    return g\n",
    "df_age['gender'] = df_age.name.apply(detect_gender)"
   ]
  },
  {
   "cell_type": "code",
   "execution_count": 17,
   "id": "14f722d4-077e-4a6e-9e3c-3edf9e3c99ee",
   "metadata": {},
   "outputs": [],
   "source": [
    "df_age['is_male'] = df_age.gender.apply(lambda x: 1 if x=='male' else 0)\n",
    "df_age=df_age[df_age['gender']!='unknown']\n",
    "df_age['is_male'] = df_age['is_male'].astype(bool)\n",
    "del df_age['gender']"
   ]
  },
  {
   "cell_type": "code",
   "execution_count": 23,
   "id": "986581f0-e972-4f8f-aafa-9b36597ce1ae",
   "metadata": {},
   "outputs": [],
   "source": [
    "#populate last 100 tweets of each user\n",
    "tw_age = pd.read_sql_query(f\"SELECT user_id, full_text, created_at FROM tweets WHERE user_id IN ({','.join([str(x) for x in df_age.user_id.tolist()])});\",conn)"
   ]
  },
  {
   "cell_type": "code",
   "execution_count": 26,
   "id": "42f318b1-78a0-4258-8f86-77a01c4713a1",
   "metadata": {},
   "outputs": [],
   "source": [
    "tw_age['date'] = pd.to_datetime(tw_age['created_at'])"
   ]
  },
  {
   "cell_type": "code",
   "execution_count": 28,
   "id": "e89fee5a-9955-4bf0-add5-a840209b9e71",
   "metadata": {},
   "outputs": [],
   "source": [
    "tw_age['RT'] = tw_age['full_text'].str.startswith('RT @')\n",
    "tw_age = tw_age[tw_age['RT']==False].copy()"
   ]
  },
  {
   "cell_type": "code",
   "execution_count": 30,
   "id": "51568d41-8749-44b9-93b5-e897329c4b0c",
   "metadata": {},
   "outputs": [],
   "source": [
    "def mask_bio(text):\n",
    "    for regex in [\"geb[\\. ].*?([12][09][0-9][0-9])\",\n",
    "             \"geboren.+?([12][09][0-9][0-9])\",\n",
    "             \"geboren op.+?([12][09][0-9][0-9])\",\n",
    "             \"verjaardag.+?([12][09][0-9][0-9])\",\n",
    "             \"verjaardag.+?([12][09][0-9][0-9])\",\n",
    "             \"([12][09][0-9][0-9]).*?geb[\\. ]\",\n",
    "             \"([12][09][0-9][0-9]).*?geboren\",\n",
    "             \"\\*.*?([12][09][0-9][0-9])\",\n",
    "             \"([1-9][0-9]) jaar oud\"]:\n",
    "        text = re.sub(regex,'',text)\n",
    "    return text"
   ]
  },
  {
   "cell_type": "code",
   "execution_count": 42,
   "id": "4dc94f87-8077-4238-8934-2d4736dfdefe",
   "metadata": {},
   "outputs": [],
   "source": [
    "def mask_tweet(tweet):\n",
    "    if len(tweet) > 0:\n",
    "        # check if the tweet contains a double digit number, but not in a quoted text\n",
    "        if re.search(r\"\\d{2}\", tweet):\n",
    "            if not re.search(r\"\\\".*\\d{2}.*\\\"\", tweet) \\\n",
    "                and not re.search(r\"\\“.*\\d{2}.*\\”\", tweet) \\\n",
    "                and not re.search(r\"\\«.*\\d{2}.*\\»\", tweet):\n",
    "\n",
    "                # search for age patterns\n",
    "                for i, pattern in enumerate(AGE_DIGIT_PATTERNS):\n",
    "                    tweet = re.sub(pattern,'',tweet, flags=re.IGNORECASE)\n",
    "\n",
    "                # search for year of birth patterns\n",
    "                for i, pattern in enumerate(YEAR_OF_BIRTH_PATTERNS):\n",
    "                    tweet = re.sub(pattern,'',tweet, flags=re.IGNORECASE)   \n",
    "    return tweet\n"
   ]
  },
  {
   "cell_type": "code",
   "execution_count": 33,
   "id": "906baf12-0528-4d66-8009-47aaa1aaf97b",
   "metadata": {},
   "outputs": [],
   "source": [
    "df_age['masked_bio'] = df_age.description.apply(mask_bio)"
   ]
  },
  {
   "cell_type": "code",
   "execution_count": 43,
   "id": "389ad096-fd5c-4157-86be-f3e88bd56e58",
   "metadata": {},
   "outputs": [],
   "source": [
    "tw_age['masked_tweet'] = tw_age.full_text.apply(mask_tweet)"
   ]
  },
  {
   "cell_type": "code",
   "execution_count": 24,
   "id": "4d497385-fefb-440b-ac9a-16cda114bdac",
   "metadata": {},
   "outputs": [],
   "source": [
    "class preprocessor():\n",
    "    \"\"\"\n",
    "    Pre-processor for tweets. Cleans mentions,\n",
    "    urls, emojis, hashtags and unix characters.\n",
    "    \"\"\"\n",
    "    def __init__(self,mention=True,url=True,unix=True,emoji=True,hashtag=False):\n",
    "        self.mention = mention\n",
    "        self.url = url\n",
    "        self.unix = unix\n",
    "        self.emoji = emoji\n",
    "        self.hashtag = hashtag\n",
    "\n",
    "    def remove_mentions(self,tweet):\n",
    "        # Remove @-mentions using regular expression\n",
    "        cleaned_tweet = re.sub(r'@\\w+', '', tweet).strip().replace('  ',' ')\n",
    "        return cleaned_tweet\n",
    "    \n",
    "    def remove_hashtags(self,tweet):\n",
    "        # Remove hashtags using regular expression\n",
    "        cleaned_tweet = re.sub(r'#\\w+', '', tweet)\n",
    "        return cleaned_tweet\n",
    "    \n",
    "    def remove_unix(self,tweet):\n",
    "        # Remove unix characters using regular expression\n",
    "        cleaned_tweet = re.sub(r'[\\n\\r\\t\\b\\f\\v]', '', tweet)\n",
    "        return cleaned_tweet\n",
    "    \n",
    "    def remove_urls(self,tweet):\n",
    "        # Remove URLs using regular expression\n",
    "        cleaned_tweet = re.sub(r'http\\S+|www\\S+', '', tweet)\n",
    "        return cleaned_tweet\n",
    "    \n",
    "    def remove_emojis(self,tweet):\n",
    "        # Remove emojis using regular expression\n",
    "        emoji_pattern = re.compile(\"[\"\n",
    "                               u\"\\U0001F600-\\U0001F64F\"  # emoticons\n",
    "                               u\"\\U0001F300-\\U0001F5FF\"  # symbols & pictographs\n",
    "                               u\"\\U0001F680-\\U0001F6FF\"  # transport & map symbols\n",
    "                               u\"\\U0001F1E0-\\U0001F1FF\"  # flags (iOS)\n",
    "                               u\"\\U00002500-\\U00002BEF\"  # chinese char\n",
    "                               u\"\\U00002702-\\U000027B0\"\n",
    "                               u\"\\U00002702-\\U000027B0\"\n",
    "                               u\"\\U000024C2-\\U0001F251\"\n",
    "                               u\"\\U0001f926-\\U0001f937\"\n",
    "                               u\"\\U00010000-\\U0010ffff\"\n",
    "                               u\"\\u2640-\\u2642\"\n",
    "                               u\"\\u2600-\\u2B55\"\n",
    "                               u\"\\u200d\"\n",
    "                               u\"\\u23cf\"\n",
    "                               u\"\\u23e9\"\n",
    "                               u\"\\u231a\"\n",
    "                               u\"\\ufe0f\"  # dingbats\n",
    "                               u\"\\u3030\"\n",
    "                               \"]+\", flags=re.UNICODE)\n",
    "        cleaned_tweet = re.sub(emoji_pattern, '', tweet)\n",
    "        return cleaned_tweet\n",
    "\n",
    "    def strip_tweet(self,tweet):\n",
    "        return tweet.strip().replace('  ',' ')\n",
    "    \n",
    "    def process_tweet(self,tweet): \n",
    "        if self.mention:\n",
    "            tweet = self.remove_mentions(tweet)\n",
    "        if self.hashtag:\n",
    "            tweet = self.remove_hashtags(tweet)\n",
    "        if self.unix:\n",
    "            tweet = self.remove_unix(tweet)\n",
    "        if self.emoji:\n",
    "            tweet = self.remove_emojis(tweet)\n",
    "        if self.url:\n",
    "            tweet = self.remove_urls(tweet)\n",
    "        tweet = self.strip_tweet(tweet)\n",
    "        return tweet"
   ]
  },
  {
   "cell_type": "code",
   "execution_count": 25,
   "id": "a739b445-a6ae-46dc-8860-26bf2c5cc14f",
   "metadata": {},
   "outputs": [],
   "source": [
    "#clean tweets and remove unrealistic ages\n",
    "df_age = df_age[-(df_age['age']>100) & (df_age['age']>=10)].copy()\n",
    "users_to_keep = df_age.user_id.unique().tolist()\n",
    "tw_age = tw_age[tw_age['user_id'].isin(users_to_keep)].copy()\n",
    "pp = preprocessor(mention=True,url=True,unix=False,emoji=False,hashtag=False)\n",
    "tw_age['masked_tweet']= tw_age['masked_tweet'].apply(pp.process_tweet)\n",
    "tw_age = tw_age[tw_age['masked_tweet']!=''].copy()"
   ]
  },
  {
   "cell_type": "code",
   "execution_count": 27,
   "id": "4a56bcfe-d671-4c53-b5ad-bab89d16b165",
   "metadata": {},
   "outputs": [],
   "source": [
    "def transform_df(df_bio,df_text, N=100):\n",
    "    # df bio\n",
    "    df_bio = df_bio[['user_id', 'masked_bio','age','birthyear','is_male','gemeente_code','gemeente_name']].fillna('').drop_duplicates()\n",
    "    \n",
    "    # process tweets\n",
    "    df_text = df_text[['user_id', 'masked_tweet', 'date']]\n",
    "        \n",
    "    # keep the N most recent text_masked\n",
    "    df_text['rank'] = df_text.groupby('user_id')['date'].rank(method='first', ascending=False)\n",
    "    \n",
    "    # Filter out entries with rank greater than N\n",
    "    df_text = df_text[df_text['rank'] <= N]\n",
    "    \n",
    "    df_text_grouped = df_text.groupby('user_id')['masked_tweet'].agg(lambda x: '\\n'.join(x)).reset_index()\n",
    "    df_text_grouped = df_text_grouped.rename(columns={'masked_tweet': 'long_text'})\n",
    "    \n",
    "    # Merge df_bio with df_text_grouped\n",
    "    result_df = pd.merge(df_bio, df_text_grouped, on='user_id', how='right').fillna('')\n",
    "\n",
    "    return result_df"
   ]
  },
  {
   "cell_type": "code",
   "execution_count": 28,
   "id": "04f2464d-01fc-4a4e-abaf-fe92d6ee9069",
   "metadata": {},
   "outputs": [
    {
     "name": "stderr",
     "output_type": "stream",
     "text": [
      "/data_local/slurm_job.11016664/ipykernel_409275/1674478022.py:9: SettingWithCopyWarning: \n",
      "A value is trying to be set on a copy of a slice from a DataFrame.\n",
      "Try using .loc[row_indexer,col_indexer] = value instead\n",
      "\n",
      "See the caveats in the documentation: https://pandas.pydata.org/pandas-docs/stable/user_guide/indexing.html#returning-a-view-versus-a-copy\n",
      "  df_text['rank'] = df_text.groupby('user_id')['date'].rank(method='first', ascending=False)\n"
     ]
    }
   ],
   "source": [
    "df = transform_df(df_age,tw_age,N=100)"
   ]
  },
  {
   "cell_type": "code",
   "execution_count": 36,
   "id": "dabe0975-d46e-422e-8f14-45c9d6bddc9b",
   "metadata": {},
   "outputs": [],
   "source": [
    "import os\n",
    "work_dir = '/g100_work/IscrC_mental'\n",
    "wdata_dir = os.path.join(work_dir, 'data')\n",
    "uc_dir = os.path.join(os.path.join(wdata_dir, 'user_classification'),'dutch_data')\n",
    "df.to_pickle(os.path.join(uc_dir,'data_for_models_dutch_data.pkl'))"
   ]
  },
  {
   "cell_type": "code",
   "execution_count": 31,
   "id": "75177af7-ab12-432e-9f85-f85909995a08",
   "metadata": {},
   "outputs": [],
   "source": [
    "df_age = df_age[df_age['user_id'].isin(df.user_id.unique().tolist())].copy()\n",
    "tw_age = tw_age[tw_age['user_id'].isin(df.user_id.unique().tolist())].copy()"
   ]
  },
  {
   "cell_type": "code",
   "execution_count": 32,
   "id": "9d07eabd-c7c1-45c2-a639-01f6226bbbbf",
   "metadata": {},
   "outputs": [],
   "source": [
    "df_age.to_pickle(os.path.join(uc_dir,'dutch_users_age_location_gender.pkl'))"
   ]
  },
  {
   "cell_type": "code",
   "execution_count": 33,
   "id": "be45348f-e2b6-420f-ae04-0d08d6e9f6ee",
   "metadata": {},
   "outputs": [],
   "source": [
    "tw_age.to_pickle(os.path.join(uc_dir,'dutch_tweets_age_location_gender.pkl'))"
   ]
  },
  {
   "cell_type": "code",
   "execution_count": 39,
   "id": "1f10e5fe-d0e7-4922-a736-5fdff4ad81cd",
   "metadata": {},
   "outputs": [],
   "source": [
    "df.to_pickle('/g100/home/userexternal/pbose000/twitter_user_classification/data/user_classification/data_for_models_dutch_data.pkl')"
   ]
  }
 ],
 "metadata": {
  "kernelspec": {
   "display_name": "mentalenv",
   "language": "python",
   "name": "mentalenv"
  },
  "language_info": {
   "codemirror_mode": {
    "name": "ipython",
    "version": 3
   },
   "file_extension": ".py",
   "mimetype": "text/x-python",
   "name": "python",
   "nbconvert_exporter": "python",
   "pygments_lexer": "ipython3",
   "version": "3.10.11"
  }
 },
 "nbformat": 4,
 "nbformat_minor": 5
}
