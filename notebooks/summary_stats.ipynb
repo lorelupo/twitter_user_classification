{
 "cells": [
  {
   "cell_type": "code",
   "execution_count": 1,
   "id": "8bf8bc7c-ee1f-4816-90bd-06b42524333b",
   "metadata": {},
   "outputs": [],
   "source": [
    "import numpy as np\n",
    "import pandas as pd\n",
    "import os\n",
    "from sklearn.model_selection import train_test_split"
   ]
  },
  {
   "cell_type": "code",
   "execution_count": 2,
   "id": "de35ec67-11f7-4706-b8ab-660ddd4c492a",
   "metadata": {},
   "outputs": [],
   "source": [
    "home_dir = '/g100/home/userexternal/mhabibi0/'\n",
    "work_dir = '/g100_work/IscrC_mental'\n",
    "\n",
    "hdata_dir = os.path.join(home_dir, 'Data')\n",
    "wdata_dir = os.path.join(work_dir, 'data')\n",
    "uc_dir = os.path.join(wdata_dir, 'user_classification')\n",
    "model_dir = os.path.join(home_dir, 'Models', 'Age')"
   ]
  },
  {
   "cell_type": "code",
   "execution_count": 3,
   "id": "6b342d1c-956b-4921-8e77-edfc54400cc2",
   "metadata": {},
   "outputs": [],
   "source": [
    "# user age data train\n",
    "path  = os.path.join(uc_dir, 'data_for_models_train.pkl')\n",
    "df = pd.read_pickle(path)\n",
    "\n",
    "# Discretize the 'age' column into four classes\n",
    "age_intervals = [0, 19, 30, 40, 100]\n",
    "age_labels = [0, 1, 2, 3]\n",
    "df = df[df['age']<=99]\n",
    "\n",
    "df['age_class'] = pd.cut(df['age'], bins=age_intervals, labels=age_labels, right=False).astype(int)\n",
    "df['male'] = df['is_male'].astype(int)\n",
    "\n",
    "# train valid split\n",
    "df_train, df_valid = train_test_split(df[['user_id', 'age', 'age_class', 'male', 'masked_bio']], test_size=0.1, random_state=42)"
   ]
  },
  {
   "cell_type": "code",
   "execution_count": 4,
   "id": "8647c5b9-a8fa-4810-ab11-4a546857521a",
   "metadata": {},
   "outputs": [],
   "source": [
    "# user age data test\n",
    "path  = os.path.join(uc_dir, 'data_for_models_test.pkl')\n",
    "df_test = pd.read_pickle(path)\n",
    "\n",
    "# Discretize the 'age' column into four classes\n",
    "age_intervals = [0, 19, 30, 40, 100]\n",
    "age_labels = [0, 1, 2, 3]\n",
    "df_test = df_test[df_test['age']<=99]\n",
    "df_test['age_class'] = pd.cut(df_test['age'], bins=age_intervals, labels=age_labels, right=False).astype(int)\n",
    "\n",
    "df_test['male'] = df_test['is_male'].astype(int)"
   ]
  },
  {
   "cell_type": "code",
   "execution_count": 6,
   "id": "0f281b2c-0150-4ddf-80c7-adf48d8efd3b",
   "metadata": {},
   "outputs": [
    {
     "name": "stdout",
     "output_type": "stream",
     "text": [
      "N train: 17262\n",
      "N valid: 1919\n",
      "N test: 1119\n",
      "% training data: 85.03448275862068\n",
      "% valid data: 9.45320197044335\n",
      "% test data: 5.512315270935961\n"
     ]
    }
   ],
   "source": [
    "# percentages :\n",
    "obs_train = df_train.shape[0]\n",
    "obs_valid = df_valid.shape[0]\n",
    "obs_test = df_test.shape[0]\n",
    "obs_all = obs_train + obs_valid + obs_test\n",
    "\n",
    "print(f'N train: {obs_train}')\n",
    "print(f'N valid: {obs_valid}')\n",
    "print(f'N test: {obs_test}')\n",
    "print(f'% training data: {100 * obs_train/obs_all}')\n",
    "print(f'% valid data: {100 * obs_valid/obs_all}')\n",
    "print(f'% test data: {100 * obs_test/obs_all}')"
   ]
  },
  {
   "cell_type": "code",
   "execution_count": 7,
   "id": "7b108dcc-3971-4027-b2f5-7a41a67345b4",
   "metadata": {},
   "outputs": [
    {
     "name": "stdout",
     "output_type": "stream",
     "text": [
      "share females train: 37.2%\n",
      "share females valid: 37.4%\n",
      "share females test: 35.7%\n"
     ]
    }
   ],
   "source": [
    "# share females\n",
    "\n",
    "print(f\"share females train: {np.round(100*(1- df_train['male'].mean()),1)}%\")\n",
    "print(f\"share females valid: {np.round(100*(1- df_valid['male'].mean()),1)}%\")\n",
    "print(f\"share females test: {np.round(100*(1- df_test['male'].mean()),1)}%\")"
   ]
  },
  {
   "cell_type": "code",
   "execution_count": 8,
   "id": "8042e050-abf6-4674-8a85-f5c67dd0f69e",
   "metadata": {},
   "outputs": [
    {
     "name": "stdout",
     "output_type": "stream",
     "text": [
      "average age train: 42.3\n",
      "average age valid: 42.7\n",
      "average age test: 42.3\n"
     ]
    }
   ],
   "source": [
    "# average ages\n",
    "\n",
    "print(f\"average age train: {np.round(df_train['age'].mean(),1)}\")\n",
    "print(f\"average age valid: {np.round(df_valid['age'].mean(),1)}\")\n",
    "print(f\"average age test: {np.round(df_test['age'].mean(),1)}\")"
   ]
  },
  {
   "cell_type": "code",
   "execution_count": 9,
   "id": "e1309964-f14f-4d52-a9fc-df4d94ddeb3e",
   "metadata": {},
   "outputs": [
    {
     "name": "stdout",
     "output_type": "stream",
     "text": [
      "share w bio train: 0.47\n",
      "share w bio valid: 0.45\n",
      "share w bio test: 0.46\n"
     ]
    }
   ],
   "source": [
    "# with bio \n",
    "\n",
    "share_train_with_bio = df_train[df_train['masked_bio']!=''].shape[0] / obs_train\n",
    "share_valid_with_bio = df_valid[df_valid['masked_bio']!=''].shape[0] / obs_valid\n",
    "share_test_with_bio = df_test[df_test['masked_bio']!=''].shape[0] / obs_test\n",
    "\n",
    "print(f\"share w bio train: {np.round(share_train_with_bio,2)}\")\n",
    "print(f\"share w bio valid: {np.round(share_valid_with_bio ,2)}\")\n",
    "print(f\"share w bio test: {np.round(share_test_with_bio,2)}\")"
   ]
  },
  {
   "cell_type": "code",
   "execution_count": 10,
   "id": "bf62d675-f9ee-48a4-884a-6ec3f586bce8",
   "metadata": {},
   "outputs": [],
   "source": [
    "# N tweets by User\n",
    "path = os.path.join(uc_dir, 'tweets_by_user_id_clean.pkl')\n",
    "df_twt = pd.read_pickle(path).drop(columns=['text', 'created_at'])\n",
    "\n",
    "df_twt['RT'] = df_twt['RT'].astype(int)\n"
   ]
  },
  {
   "cell_type": "code",
   "execution_count": 11,
   "id": "a33c9961-793c-4338-b6d5-c77eba6d4616",
   "metadata": {},
   "outputs": [],
   "source": [
    "agg_func= {'tweet_id': 'count', 'RT': 'sum'}\n",
    "df_utwt = df_twt.groupby('user_id').agg(agg_func).reset_index().\\\n",
    "            rename(columns={'tweet_id': 'n_tweets', 'RT': 'n_rt'})\n",
    "\n",
    "df_train_twt = df_train.merge(df_utwt, on='user_id')\n",
    "df_valid_twt = df_valid.merge(df_utwt, on='user_id')\n",
    "df_test_twt = df_test.merge(df_utwt, on='user_id')"
   ]
  },
  {
   "cell_type": "code",
   "execution_count": 12,
   "id": "0003b966-cdef-4792-aefa-43438e3f1300",
   "metadata": {},
   "outputs": [
    {
     "name": "stdout",
     "output_type": "stream",
     "text": [
      "n tweets in train: 24504398\n",
      "n tweets in valid: 2763834\n",
      "n tweets in test: 1571178\n"
     ]
    }
   ],
   "source": [
    "# number of tweets:\n",
    "\n",
    "n_tweets_train = df_train_twt['n_tweets'].sum()\n",
    "n_tweets_valid = df_valid_twt['n_tweets'].sum()\n",
    "n_tweets_test = df_test_twt['n_tweets'].sum()\n",
    "\n",
    "print(f'n tweets in train: {n_tweets_train}')\n",
    "print(f'n tweets in valid: {n_tweets_valid}')\n",
    "print(f'n tweets in test: {n_tweets_test}')"
   ]
  },
  {
   "cell_type": "code",
   "execution_count": 17,
   "id": "23e9fb9a-76f3-4757-8cd9-e38f45447d02",
   "metadata": {},
   "outputs": [
    {
     "name": "stdout",
     "output_type": "stream",
     "text": [
      "share RT in train: 0.238\n",
      "share RT in valid: 0.246\n",
      "share RT in test: 0.195\n"
     ]
    }
   ],
   "source": [
    "# share retweets\n",
    "\n",
    "n_rt_train = df_train_twt['n_rt'].sum()\n",
    "n_rt_valid = df_valid_twt['n_rt'].sum()\n",
    "n_rt_test = df_test_twt['n_rt'].sum()\n",
    "\n",
    "print(f'share RT in train: {np.round(n_tweets_train /n_tweets_train ,3)}')\n",
    "print(f'share RT in valid: {np.round(n_rt_valid/n_tweets_valid ,3)}')\n",
    "print(f'share RT in test: {np.round(n_rt_test/n_tweets_test ,3)}')"
   ]
  },
  {
   "cell_type": "code",
   "execution_count": 18,
   "id": "8a292a06-ac67-43de-8c54-d6ef9982d821",
   "metadata": {},
   "outputs": [
    {
     "name": "stdout",
     "output_type": "stream",
     "text": [
      "Tweet/User train: 337.9\n",
      "Tweet/User valid: 354.7\n",
      "Tweet/User test: 273.7\n"
     ]
    }
   ],
   "source": [
    "# Tweets per user\n",
    "\n",
    "print(f'Tweet/User train: {np.round(n_rt_train/obs_train  ,1)}')\n",
    "print(f'Tweet/User valid: {np.round(n_rt_valid/obs_valid  ,1)}')\n",
    "print(f'Tweet/User test: {np.round(n_rt_test/obs_test  ,1)}')"
   ]
  },
  {
   "cell_type": "code",
   "execution_count": 14,
   "id": "dbb77346-f99e-41b0-8939-c37744c72eb7",
   "metadata": {},
   "outputs": [
    {
     "name": "stdout",
     "output_type": "stream",
     "text": [
      "share w img train: 0.8\n",
      "share w img valid: 0.78\n",
      "share w img test: 0.99\n"
     ]
    }
   ],
   "source": [
    "# share of users with images\n",
    "himg_dir = os.path.join(hdata_dir, 'images')\n",
    "himg_test_dir = os.path.join(himg_dir, 'test')\n",
    "himg_train_dir = os.path.join(himg_dir, 'train')\n",
    "\n",
    "images_train_valid = os.listdir(os.path.join(himg_train_dir, 'images_resized'))\n",
    "images_test = os.listdir(os.path.join(himg_test_dir, 'images_resized'))\n",
    "\n",
    "images_id_train_valid = [int(f.split('.')[0]) for f in images_train_valid]\n",
    "images_id_test = [int(f.split('.')[0]) for f in images_test]\n",
    "\n",
    "df_train['has_image'] = df_train['user_id'].apply(lambda x: 1 if x in images_id_train_valid else 0)\n",
    "df_valid['has_image'] = df_valid['user_id'].apply(lambda x: 1 if x in images_id_train_valid else 0)\n",
    "df_test['has_image'] = df_test['user_id'].apply(lambda x: 1 if x in images_id_test else 0)\n",
    "\n",
    "\n",
    "print(f\"share w img train: {np.round(df_train['has_image'].mean(),2)}\")\n",
    "print(f\"share w img valid: {np.round(df_valid['has_image'].mean(),2)}\")\n",
    "print(f\"share w img test: {np.round(df_test['has_image'].mean(),2)}\")"
   ]
  },
  {
   "cell_type": "code",
   "execution_count": 19,
   "id": "ab573cdd-1b30-45c1-978a-2cd72e37d727",
   "metadata": {},
   "outputs": [],
   "source": [
    "## location\n",
    "import sqlite3  as sql    \n",
    "dbase_path = os.path.join(work_dir, 'data', 'database', 'MENTALISM.db')\n",
    "connection = sql.connect(dbase_path)\n",
    "cursor = connection.cursor()"
   ]
  },
  {
   "cell_type": "code",
   "execution_count": 36,
   "id": "c36636bf-3f1a-4131-8025-20863ed9d018",
   "metadata": {},
   "outputs": [
    {
     "name": "stdout",
     "output_type": "stream",
     "text": [
      "tweets\n",
      "user\n",
      "user_geocoded_old\n",
      "user_geocoded\n"
     ]
    }
   ],
   "source": [
    "# Query to get all table names\n",
    "cursor.execute(\"SELECT name FROM sqlite_master WHERE type='table';\")\n",
    "tables = cursor.fetchall()\n",
    "\n",
    "# # Print the table names\n",
    "# for table in tables:\n",
    "#     print(table[0])\n",
    "    \n",
    "df_geo = pd.read_sql('SELECT user_id, foreign_country, region_code, city_id  FROM user_geocoded', connection)\n",
    "\n",
    "df_geo['foreign'] = pd.to_numeric(df_train_geo['foreign_country'], errors = 'coerce') \n",
    "df_geo['city_code'] = pd.to_numeric(df_train_geo['city_id'], errors = 'coerce') \n",
    "df_geo = df_geo[['user_id', 'foreign', 'region_code' , 'city_code']]"
   ]
  },
  {
   "cell_type": "code",
   "execution_count": 37,
   "id": "af006fe7-5cb7-4fba-b133-6dbb9d84d155",
   "metadata": {},
   "outputs": [],
   "source": [
    "df_train_geo = df_train.merge(df_geo, on='user_id')\n",
    "df_valid_geo = df_valid.merge(df_geo, on='user_id')\n",
    "df_test_geo = df_test.merge(df_geo, on='user_id')"
   ]
  },
  {
   "cell_type": "code",
   "execution_count": 44,
   "id": "379d6f1e-7a80-4da1-a624-60200c88e14e",
   "metadata": {},
   "outputs": [
    {
     "name": "stdout",
     "output_type": "stream",
     "text": [
      "share w. loc train: 43.0%\n",
      "share w. loc valid: 41.1%\n",
      "share w. loc test: 47.2%\n"
     ]
    }
   ],
   "source": [
    "# percent with location\n",
    "\n",
    "n_wloc_train = len(df_train_geo[(df_train_geo['region_code'].notna()) | (df_train_geo['foreign'].notna())]) \n",
    "n_wloc_valid = len(df_valid_geo[(df_valid_geo['region_code'].notna()) | (df_valid_geo['foreign'].notna())]) \n",
    "n_wloc_test = len(df_test_geo[(df_test_geo['region_code'].notna()) | (df_test_geo['foreign'].notna())]) \n",
    "\n",
    "print(f\"share w. loc train: {np.round(100 * n_wloc_train/ obs_train,1)}%\")\n",
    "print(f\"share w. loc valid: {np.round(100 * n_wloc_valid/ obs_valid,1)}%\")\n",
    "print(f\"share w. loc test: {np.round(100 * n_wloc_test/ obs_test,1)}%\")"
   ]
  },
  {
   "cell_type": "code",
   "execution_count": null,
   "id": "07e9728c-0abb-4fc4-890d-8a74a005af05",
   "metadata": {},
   "outputs": [],
   "source": []
  }
 ],
 "metadata": {
  "kernelspec": {
   "display_name": "DASK 2022.10 (Python 3.10)",
   "language": "python",
   "name": "python3"
  },
  "language_info": {
   "codemirror_mode": {
    "name": "ipython",
    "version": 3
   },
   "file_extension": ".py",
   "mimetype": "text/x-python",
   "name": "python",
   "nbconvert_exporter": "python",
   "pygments_lexer": "ipython3",
   "version": "3.10.6"
  }
 },
 "nbformat": 4,
 "nbformat_minor": 5
}
