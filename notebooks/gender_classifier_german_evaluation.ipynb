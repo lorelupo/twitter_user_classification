{
 "cells": [
  {
   "cell_type": "code",
   "execution_count": 1,
   "id": "14cf3fc4-f041-417f-82e8-dfa58e51b84f",
   "metadata": {},
   "outputs": [],
   "source": [
    "import numpy as np\n",
    "import pandas as pd\n",
    "import os\n",
    "from transformers import pipeline, set_seed\n",
    "import requests\n",
    "import torch\n",
    "import torch.nn as nn\n",
    "import torch.optim as optim\n",
    "import transformers\n",
    "from transformers import AutoTokenizer, AutoModelForSequenceClassification, Trainer, TrainingArguments\n",
    "import time\n",
    "from sklearn.model_selection import train_test_split"
   ]
  },
  {
   "cell_type": "code",
   "execution_count": 16,
   "id": "e16e1e82-d14c-4e3c-b7ae-3874d58cc94e",
   "metadata": {},
   "outputs": [],
   "source": [
    "DEVICE = torch.device('cuda' if torch.cuda.is_available() else 'cpu')"
   ]
  },
  {
   "cell_type": "code",
   "execution_count": 18,
   "id": "e420dad1-3236-44ad-941e-e921d2fb47ce",
   "metadata": {},
   "outputs": [],
   "source": [
    "def batch_tokenize(X_text, tokenizer, max_length=512, batch_size=64):\n",
    "\n",
    "    # Dictionary to hold tokenized batches\n",
    "    encodings = {}\n",
    "\n",
    "    # Calculate the number of batches needed\n",
    "    num_batches = len(X_text) // batch_size + int(len(X_text) % batch_size > 0)\n",
    "\n",
    "    # Iterate over the data in batches\n",
    "    for i in range(num_batches):\n",
    "        batch_start = i * batch_size\n",
    "        batch_end = min(len(X_text), (i + 1) * batch_size)\n",
    "\n",
    "        # Tokenize the current batch of texts\n",
    "        batch_encodings = tokenizer.batch_encode_plus(\n",
    "            list(X_text[batch_start:batch_end]),\n",
    "            padding='max_length',\n",
    "            truncation=True,\n",
    "            max_length=max_length\n",
    "        )\n",
    "\n",
    "        # Merge the batch tokenizations into the main dictionary\n",
    "        for key, val in batch_encodings.items():\n",
    "            if key not in encodings:\n",
    "                encodings[key] = []\n",
    "            encodings[key].extend(val)\n",
    "\n",
    "    return encodings"
   ]
  },
  {
   "cell_type": "code",
   "execution_count": 19,
   "id": "4dbf686c-6b1b-4fbe-9428-c4a4cbd520f5",
   "metadata": {},
   "outputs": [],
   "source": [
    "class TweetDataset(torch.utils.data.Dataset):\n",
    "    def __init__(self, encodings, labels):\n",
    "        self.encodings = encodings\n",
    "        self.labels = labels\n",
    "\n",
    "    def __getitem__(self, idx):\n",
    "        item = {key: torch.tensor(val[idx]) for key, val in self.encodings.items()}\n",
    "        item['labels'] = torch.tensor(self.labels[idx])\n",
    "        return item\n",
    "\n",
    "    def __len__(self):\n",
    "        return len(self.labels)"
   ]
  },
  {
   "cell_type": "code",
   "execution_count": 20,
   "id": "0cb9cea1-4af8-4e1d-b60f-a52482f107a8",
   "metadata": {},
   "outputs": [],
   "source": [
    "from sklearn.metrics import accuracy_score, precision_score, recall_score, f1_score\n",
    "\n",
    "def compute_metrics(model, data_loader, device):\n",
    "    with torch.no_grad():\n",
    "        all_predictions = []\n",
    "        all_labels = []\n",
    "\n",
    "        for batch_idx, batch in enumerate(data_loader):\n",
    "            input_ids = batch['input_ids'].to(device)\n",
    "            attention_mask = batch['attention_mask'].to(device)\n",
    "            labels = batch['labels'].to(device)\n",
    "\n",
    "            outputs = model(input_ids, attention_mask=attention_mask)\n",
    "            logits = outputs.logits\n",
    "\n",
    "            # Get the predicted class labels\n",
    "            predicted_labels = torch.argmax(logits, dim=1)\n",
    "\n",
    "            all_predictions.extend(predicted_labels.cpu().numpy())\n",
    "            all_labels.extend(labels.cpu().numpy())\n",
    "\n",
    "        \n",
    "        accuracy = accuracy_score(all_labels, all_predictions)\n",
    "        precision = precision_score(all_labels, all_predictions)\n",
    "        recall = recall_score(all_labels, all_predictions)\n",
    "        f1 = f1_score(all_labels, all_predictions)\n",
    "\n",
    "        metrics = {'accuracy': accuracy,  'f1': f1 }\n",
    "\n",
    "        return metrics"
   ]
  },
  {
   "cell_type": "code",
   "execution_count": 21,
   "id": "b338f5f4-6fd2-43aa-9576-1ea5669da266",
   "metadata": {},
   "outputs": [],
   "source": [
    "home_dir = '/g100/home/userexternal/pbose000/'\n",
    "work_dir = '/g100_work/IscrC_mental'\n",
    "\n",
    "wdata_dir = os.path.join(work_dir, 'data')\n",
    "uc_dir = os.path.join(wdata_dir, 'user_classification')\n",
    "model_dir = os.path.join(uc_dir,'trained_models/gender')"
   ]
  },
  {
   "cell_type": "code",
   "execution_count": 22,
   "id": "f7422cf2-5d8c-4df4-939f-8e146cf7e73f",
   "metadata": {},
   "outputs": [],
   "source": [
    "# load test set from german data\n",
    "path  = os.path.join(uc_dir, 'german_data/data_for_models_german_data.pkl')\n",
    "df_test = pd.read_pickle(path)\n",
    "\n",
    "df_test['male'] = df_test['is_male'].astype(int)\n",
    "df_test['text']  = 'bio: ' + df_test['masked_bio'] + '. ' + 'tweets: ' + df_test['long_text'] \n",
    "df_test['text'] = df_test['text'].str.replace('\\r|\\n', ' ', regex=True)\n",
    "\n",
    "X_test = df_test['text'].values\n",
    "y_test = df_test['male'].values"
   ]
  },
  {
   "cell_type": "code",
   "execution_count": 23,
   "id": "d45eff04-5cde-4100-8fd4-c32395e08aac",
   "metadata": {},
   "outputs": [],
   "source": [
    "xlm_tokenizer = AutoTokenizer.from_pretrained(\"cardiffnlp/twitter-xlm-roberta-base\")\n",
    "xlm_test_encodings = batch_tokenize(X_test, xlm_tokenizer)\n",
    "xlm_test_dataset = TweetDataset(xlm_test_encodings, y_test)\n"
   ]
  },
  {
   "cell_type": "code",
   "execution_count": 24,
   "id": "b7c86657-7079-4744-adaf-027273b4b934",
   "metadata": {},
   "outputs": [],
   "source": [
    "BATCH_SIZE = 32\n",
    "\n",
    "xlm_loader = torch.utils.data.DataLoader(\n",
    "    xlm_test_dataset, \n",
    "    batch_size=BATCH_SIZE, \n",
    "    shuffle=False,\n",
    "    pin_memory=True\n",
    ")"
   ]
  },
  {
   "cell_type": "code",
   "execution_count": 25,
   "id": "3400a2ff-5b95-43aa-af4e-9b69ca315ae2",
   "metadata": {},
   "outputs": [],
   "source": [
    "def test_eval(model_path, data_loader, device):\n",
    "    \n",
    "    # Load the saved model\n",
    "    model = torch.load(model_path)\n",
    "    model = model.to(device)\n",
    "    \n",
    "    # Set the model to evaluation mode\n",
    "    model.eval()\n",
    "    \n",
    "    # Compute the metrics\n",
    "    metrics = compute_metrics(model, data_loader, device)\n",
    "    \n",
    "    return metrics\n"
   ]
  },
  {
   "cell_type": "code",
   "execution_count": 26,
   "id": "c97471b7-27a6-4720-84d2-512081e8869d",
   "metadata": {},
   "outputs": [],
   "source": [
    "path_xlm =  os.path.join(model_dir ,'XLM_gender.pt')"
   ]
  },
  {
   "cell_type": "code",
   "execution_count": 27,
   "id": "a576158a-3798-4169-96f9-77f077fb0e40",
   "metadata": {},
   "outputs": [
    {
     "data": {
      "text/plain": [
       "{'accuracy': 0.8043818466353677, 'f1': 0.8751248751248751}"
      ]
     },
     "execution_count": 27,
     "metadata": {},
     "output_type": "execute_result"
    }
   ],
   "source": [
    "test_eval(path_xlm, xlm_loader, DEVICE)"
   ]
  },
  {
   "cell_type": "code",
   "execution_count": null,
   "id": "896cea99-4e00-4436-9a30-03c53165b100",
   "metadata": {},
   "outputs": [],
   "source": []
  }
 ],
 "metadata": {
  "kernelspec": {
   "display_name": "mentalenv",
   "language": "python",
   "name": "mentalenv"
  },
  "language_info": {
   "codemirror_mode": {
    "name": "ipython",
    "version": 3
   },
   "file_extension": ".py",
   "mimetype": "text/x-python",
   "name": "python",
   "nbconvert_exporter": "python",
   "pygments_lexer": "ipython3",
   "version": "3.10.11"
  }
 },
 "nbformat": 4,
 "nbformat_minor": 5
}
