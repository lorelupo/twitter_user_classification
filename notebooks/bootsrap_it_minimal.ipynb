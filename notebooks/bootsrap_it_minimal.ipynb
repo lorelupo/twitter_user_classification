{
 "cells": [
  {
   "cell_type": "code",
   "execution_count": 9,
   "id": "3c5e8d2d-3a47-4652-b859-5897c18e690d",
   "metadata": {},
   "outputs": [],
   "source": [
    "# !pip install boostsa"
   ]
  },
  {
   "cell_type": "code",
   "execution_count": 1,
   "id": "10c99df5-8f45-4778-a30b-0f705dcd7cc9",
   "metadata": {},
   "outputs": [],
   "source": [
    "from boostsa import Bootstrap\n",
    "import pickle\n",
    "import pandas as pd\n",
    "import numpy as np\n",
    "import itertools\n",
    "import os\n",
    "import math\n",
    "import shutil\n",
    "boot = Bootstrap()"
   ]
  },
  {
   "cell_type": "code",
   "execution_count": 2,
   "id": "95575d9b-162f-4a23-ad83-821222063538",
   "metadata": {},
   "outputs": [],
   "source": [
    "home_dir = '/g100/home/userexternal/mhabibi0/'\n",
    "work_dir = '/g100_work/IscrC_mental'\n",
    "\n",
    "hdata_dir = os.path.join(home_dir, 'Data')\n",
    "wdata_dir = os.path.join(work_dir, 'data')\n",
    "uc_dir = os.path.join(wdata_dir, 'user_classification')\n",
    "mit_dir = os.path.join(uc_dir,  'trained_models', 'it')"
   ]
  },
  {
   "cell_type": "code",
   "execution_count": 3,
   "id": "28783b60-7f91-4104-904b-0362149bacb5",
   "metadata": {},
   "outputs": [],
   "source": [
    "# read test data\n",
    "path  = os.path.join(uc_dir, 'data_for_models_test.pkl')\n",
    "df_gold = pd.read_pickle(path)\n",
    "df_gold['male'] = df_gold['is_male'].astype(int)\n",
    "\n",
    "# Discretize the 'age' column into four classes\n",
    "age_intervals = [0, 19, 30, 40, 100]\n",
    "age_labels = [0, 1, 2, 3]\n",
    "df_gold = df_gold[df_gold['age']<=99]\n",
    "df_gold['age_class'] = pd.cut(df_gold['age'], bins=age_intervals, labels=age_labels, right=False).astype(int)\n",
    "\n",
    "\n",
    "df_gold = df_gold[['user_id', 'male','age_class']]\n",
    "\n",
    "df_gold['user_id'] = df_gold['user_id'].astype(float)"
   ]
  },
  {
   "cell_type": "code",
   "execution_count": 40,
   "id": "a860acc8-c257-4d9f-9d85-1bc330f9fb29",
   "metadata": {},
   "outputs": [],
   "source": [
    "# xlm\n",
    "\n",
    "# bio+tweet gender\n",
    "path = os.path.join(mit_dir, 'xlm_bio_tweet_test_gender.csv')\n",
    "df_xlm_btg = pd.read_csv(path)\n",
    "\n",
    "\n",
    "# bio+tweet age\n",
    "path = os.path.join(mit_dir, 'xlm_bio_tweet_test_age.csv')\n",
    "df_xlm_bta = pd.read_csv(path)\n",
    "\n",
    "# bio only gender\n",
    "path = os.path.join(mit_dir, 'xlm_bio_only_test_gender.csv')\n",
    "df_xlm_bog = pd.read_csv(path)\n",
    "\n",
    "# bio+tweet gender\n",
    "path = os.path.join(mit_dir, 'xlm_bio_only_test_age.csv')\n",
    "df_xlm_boa = pd.read_csv(path)\n",
    "\n",
    "\n",
    "# reanme columns\n",
    "list_df_xlms = [df_xlm_btg, df_xlm_bta, df_xlm_bog, df_xlm_boa]\n",
    "for df_xlm in list_df_xlms:\n",
    "    df_xlm.columns = ['user_id', 'prediction']\n",
    "\n",
    "# M3: bio image\n",
    "path = os.path.join(mit_dir, 'm3_bio_image_test_age_gender.csv')\n",
    "df_m3_bi = pd.read_csv(path)\n",
    "df_m3_bi['user_id'] = df_m3_bi['user_id'].astype(float)\n",
    "df_m3_bi['pred_male'] = df_m3_bi['pred_male'].astype(int)\n",
    "df_m3_bi['pred_age_class'] = df_m3_bi['pred_age_class'].astype(int)\n",
    "\n",
    "df_m3_big = df_m3_bi[['user_id', 'pred_male']]\n",
    "df_m3_big.columns = ['user_id', 'prediction']\n",
    "\n",
    "df_m3_bia = df_m3_bi[['user_id', 'pred_age_class']]\n",
    "df_m3_bia.columns = ['user_id', 'prediction']\n",
    "\n",
    "\n",
    "\n",
    "# M3 bio only\n",
    "path = os.path.join(mit_dir ,'m3_test_age_gender.csv')\n",
    "df_m3_bo = pd.read_csv(path)\n",
    "\n",
    "df_m3_bo['user_id'] = df_m3_bo['user_id'].astype(float)\n",
    "df_m3_bo['pred_male'] = df_m3_bo['pred_male'].astype(int)\n",
    "df_m3_bo['pred_age_class'] = df_m3_bo['pred_age_class'].astype(int)\n",
    "\n",
    "df_m3_bog = df_m3_bo[['user_id', 'pred_male']]\n",
    "df_m3_bog.columns = ['user_id', 'prediction']\n",
    "\n",
    "df_m3_boa = df_m3_bo[['user_id', 'pred_age_class']]\n",
    "df_m3_boa.columns = ['user_id', 'prediction']"
   ]
  },
  {
   "cell_type": "code",
   "execution_count": 5,
   "id": "967fba2c-1c53-418b-b37e-1c2d32bd6b35",
   "metadata": {},
   "outputs": [],
   "source": [
    "# flan\n",
    "path = '/g100_work/IscrC_mental/data/user_classification/trained_models/it/'\n",
    "\n",
    "# FLAN-T5 bio gender\n",
    "file = 'flan_bio_only_test_gender.csv'\n",
    "df_flan_bog = pd.read_csv(path+file)\n",
    "\n",
    "# flan bio only age\n",
    "file = 'flan_bio_only_test_age.csv'\n",
    "df_flan_boa = pd.read_csv(path+file)\n",
    "\n",
    "# FLAN-T5 bio + tweets\n",
    "# gender\n",
    "file = 'flan_bio_tweets_test_gender.csv'\n",
    "df_flan_btg = pd.read_csv(path+file)\n",
    "\n",
    "# age\n",
    "file = 'flan_bio_tweets_test_age.csv'\n",
    "df_flan_bta =  pd.read_csv(path+file)\n",
    "\n",
    "# GPT 3.5 bio\n",
    "\n",
    "# age\n",
    "file = 'gpt35_bio_test_age.csv'\n",
    "df_gpt_boa = pd.read_csv(path+file)\n",
    "\n",
    "# gender\n",
    "file = 'gpt35_bio_test_gender.csv'\n",
    "df_gpt_bog = pd.read_csv(path+file)\n",
    "\n",
    "\n",
    "# GPT 3.5 bio + tweets\n",
    "# age\n",
    "file =  'gpt35_bio_tweets_test_age.csv'\n",
    "df_gpt_bta = pd.read_csv(path+file)\n",
    "\n",
    "# gender\n",
    "file = 'gpt35_bio_tweets_test_gender.csv'\n",
    "df_gpt_btg = pd.read_csv(path+file)\n",
    "\n",
    "# transform gender dfs\n",
    "dfs_g = [df_flan_bog, df_flan_btg, df_gpt_bog, df_gpt_btg]\n",
    "\n",
    "for df_ in dfs_g:\n",
    "    df_['pred_male'] = df_['prediction'].apply(lambda x: 1 if x == 'male' else 0)\n",
    "    df_.drop(columns=[col for col in df_.columns if col not in ['user_id', 'pred_male']], inplace=True)\n",
    "    df_.rename(columns={'pred_male': 'prediction'}, inplace=True)\n",
    "    \n",
    "    \n",
    "# transform age dfs\n",
    "dfs_a = [df_flan_boa, df_flan_bta, df_gpt_boa, df_gpt_bta]\n",
    "\n",
    "for df_ in dfs_a:\n",
    "    df_.drop(columns=[col for col in df_.columns if col not in ['user_id', 'prediction']], inplace=True)"
   ]
  },
  {
   "cell_type": "code",
   "execution_count": 10,
   "id": "54d18e00-9e0c-453a-935e-f6ab96bb78c3",
   "metadata": {},
   "outputs": [],
   "source": [
    "# CV \n",
    "file = 'cv_test.pkl'\n",
    "df_cv = pd.read_pickle(path+file)\n",
    "\n",
    "df_cv['user_id'] = df_cv['user_id'].astype(float)\n",
    "\n",
    "# gender\n",
    "df_cv['pred_male'] = 1- df_cv['pred_gender_label_id']\n",
    "df_cvg = df_cv[['user_id', 'pred_male']]\n",
    "df_cvg.columns = ['user_id', 'prediction']\n",
    "\n",
    "# age\n",
    "df_cva = df_cv[['user_id','pred_age_label_id']]\n",
    "df_cva.columns = ['user_id', 'prediction']"
   ]
  },
  {
   "cell_type": "code",
   "execution_count": 11,
   "id": "027bf492-056b-49b9-9d12-82df8971f069",
   "metadata": {},
   "outputs": [],
   "source": [
    "list_gender_dfs = [df_xlm_btg, df_xlm_bog, df_m3_big, df_m3_bog, df_flan_bog, \n",
    "                   df_flan_btg, df_gpt_bog, df_gpt_btg, df_cvg]\n",
    "\n",
    "gender_df_names = ['xlm_btg', 'xlm_bog', 'm3_big', 'm3_bog', 'flan_bog',\n",
    "                   'flan_btg', 'gpt_bog', 'gpt_btg', 'cvg']\n",
    "\n",
    "\n",
    "list_age_dfs = [df_xlm_bta, df_xlm_boa, df_m3_bia, df_m3_boa, df_flan_boa,\n",
    "                df_flan_bta, df_gpt_boa, df_gpt_bta, df_cva]\n",
    "\n",
    "age_df_names = ['xlm_bta', 'xlm_boa', 'm3_bia', 'm3_boa', 'flan_boa',\n",
    "                'flan_bta', 'gpt_boa', 'gpt_bta', 'cva']\n"
   ]
  },
  {
   "cell_type": "code",
   "execution_count": 54,
   "id": "ae52c1d9-d590-44cc-9c19-ecba2685ee7b",
   "metadata": {},
   "outputs": [],
   "source": [
    "def model_vs_m3_gender(df_gld, df_m3, df_mod):\n",
    "    \n",
    "    \"\"\"\n",
    "    Evaluate model performance agains M3\n",
    "    \"\"\"\n",
    "    # merge gold labels with m3\n",
    "    df_merged = df_gld.merge(df_m3, on='user_id', how='inner')\n",
    "    df_merged = df_merged.rename(columns={'prediction':'m3_pred'})\n",
    "    df_merged = df_merged.merge(df_mod, on='user_id', how='inner')\n",
    "    \n",
    "    \n",
    "    print(f'len df merged: {len(df_merged)}')\n",
    "    \n",
    "    gold_labels = df_merged['male'].values.tolist()\n",
    "    m3_preds= df_merged['m3_pred'].values.tolist()\n",
    "    mod_preds = df_merged['prediction'].values.tolist()\n",
    "    boot.test(targs=gold_labels, h0_preds = m3_preds ,h1_preds=mod_preds, n_loops=1000, sample_size=.5, verbose=True)\n",
    "    "
   ]
  },
  {
   "cell_type": "code",
   "execution_count": 55,
   "id": "e0211919-b586-4db5-8ed5-59f39364e051",
   "metadata": {},
   "outputs": [
    {
     "name": "stdout",
     "output_type": "stream",
     "text": [
      "len df merged: 1087\n",
      "data shape:  (1087, 1)\n",
      "sample size: 543\n",
      "h0: h0 - h1: h1\n",
      "targs count:    ['class 0 freq 388 perc 35.69%', 'class 1 freq 699 perc 64.31%']\n",
      "h0 preds count: ['class 0 freq 251 perc 23.09%', 'class 1 freq 836 perc 76.91%']\n",
      "h1 preds count: ['class 0 freq 362 perc 33.30%', 'class 1 freq 725 perc 66.70%']\n",
      "F-measure...... - h0: 0.8105  - h1: 0.8718  - diff: 0.0613\n",
      "precision...... - h0: 0.8740  - h1: 0.8785  - diff: 0.0045\n",
      "recall......... - h0: 0.7894  - h1: 0.8663  - diff: 0.0769\n",
      "accuracy....... - h0: 0.8427  - h1: 0.8841  - diff: 0.0414\n"
     ]
    },
    {
     "name": "stderr",
     "output_type": "stream",
     "text": [
      "bootstrap: 100%|███████████████████████████| 1000/1000 [00:08<00:00, 112.92it/s]"
     ]
    },
    {
     "name": "stdout",
     "output_type": "stream",
     "text": [
      "\n",
      "count sample diff f1   is twice tot diff f1....... 5    / 1000    p < 0.005  \u001b[38;5;9m**\u001b[0m\n",
      "count sample diff prec is twice tot diff prec..... 412  / 1000    p < 0.412  \n",
      "count sample diff rec  is twice tot diff rec ..... 0    / 1000    p < 0.0    \u001b[38;5;9m**\u001b[0m\n",
      "count sample diff acc  is twice tot diff acc...... 23   / 1000    p < 0.023  \u001b[38;5;9m*\u001b[0m\n"
     ]
    },
    {
     "name": "stderr",
     "output_type": "stream",
     "text": [
      "\n"
     ]
    }
   ],
   "source": [
    "model_vs_m3_gender(df_gold[['user_id','male']], df_m3_big, df_xlm_btg)"
   ]
  },
  {
   "cell_type": "code",
   "execution_count": 56,
   "id": "4f470abd-6fbf-4796-982e-db817192f789",
   "metadata": {},
   "outputs": [],
   "source": [
    "def model_vs_m3_age(df_gld, df_m3, df_mod):\n",
    "    \n",
    "    \"\"\"\n",
    "    Evaluate model performance agains M3\n",
    "    \"\"\"\n",
    "    # merge gold labels with m3\n",
    "    df_merged = df_gld.merge(df_m3, on='user_id', how='inner')\n",
    "    df_merged = df_merged.rename(columns={'prediction':'m3_pred'})\n",
    "    df_merged = df_merged.merge(df_mod, on='user_id', how='inner')\n",
    "    \n",
    "    print(f'len df merged: {len(df_merged)}')\n",
    "    \n",
    "    gold_labels = df_merged['age_class'].values.tolist()\n",
    "    m3_preds= df_merged['m3_pred'].values.tolist()\n",
    "    mod_preds = df_merged['prediction'].values.tolist()\n",
    "    boot.test(targs=gold_labels, h0_preds = m3_preds ,h1_preds=mod_preds, n_loops=1000, sample_size=.5, verbose=True)\n",
    "    "
   ]
  },
  {
   "cell_type": "code",
   "execution_count": 57,
   "id": "a812168b-d792-431c-83ab-d986da8dabb7",
   "metadata": {},
   "outputs": [
    {
     "name": "stdout",
     "output_type": "stream",
     "text": [
      "len df merged: 1087\n",
      "data shape:  (1087, 1)\n",
      "sample size: 543\n",
      "h0: h0 - h1: h1\n",
      "targs count:    ['class 0 freq 88 perc 8.10%', 'class 1 freq 231 perc 21.25%', 'class 2 freq 214 perc 19.69%', 'class 3 freq 554 perc 50.97%']\n",
      "h0 preds count: ['class 0 freq 123 perc 11.32%', 'class 1 freq 140 perc 12.88%', 'class 2 freq 171 perc 15.73%', 'class 3 freq 653 perc 60.07%']\n",
      "h1 preds count: ['class 0 freq 64 perc 5.89%', 'class 1 freq 238 perc 21.90%', 'class 2 freq 217 perc 19.96%', 'class 3 freq 568 perc 52.25%']\n",
      "F-measure...... - h0: 0.4171  - h1: 0.6008  - diff: 0.1837\n",
      "precision...... - h0: 0.4307  - h1: 0.6252  - diff: 0.1945\n",
      "recall......... - h0: 0.4223  - h1: 0.5846  - diff: 0.1623\n",
      "accuracy....... - h0: 0.5363  - h1: 0.6615  - diff: 0.1252\n"
     ]
    },
    {
     "name": "stderr",
     "output_type": "stream",
     "text": [
      "bootstrap: 100%|███████████████████████████| 1000/1000 [00:08<00:00, 114.42it/s]"
     ]
    },
    {
     "name": "stdout",
     "output_type": "stream",
     "text": [
      "\n",
      "count sample diff f1   is twice tot diff f1....... 0    / 1000    p < 0.0    \u001b[38;5;9m**\u001b[0m\n",
      "count sample diff prec is twice tot diff prec..... 0    / 1000    p < 0.0    \u001b[38;5;9m**\u001b[0m\n",
      "count sample diff rec  is twice tot diff rec ..... 0    / 1000    p < 0.0    \u001b[38;5;9m**\u001b[0m\n",
      "count sample diff acc  is twice tot diff acc...... 0    / 1000    p < 0.0    \u001b[38;5;9m**\u001b[0m\n"
     ]
    },
    {
     "name": "stderr",
     "output_type": "stream",
     "text": [
      "\n"
     ]
    }
   ],
   "source": [
    "model_vs_m3_age(df_gold[['user_id','age_class']], df_m3_bia, df_xlm_bta)"
   ]
  },
  {
   "cell_type": "markdown",
   "id": "2b5f3d88-10e4-4c4e-a8a7-61e2d312afd4",
   "metadata": {},
   "source": [
    "### XLM + M3 vs M3-base"
   ]
  },
  {
   "cell_type": "code",
   "execution_count": 58,
   "id": "1aebb0a3-c63c-43d0-ba5e-5aa725d7f576",
   "metadata": {},
   "outputs": [],
   "source": [
    "path = os.path.join(mit_dir, 'xlm_m3_untrained_agg_test.pickle')\n",
    "\n",
    "df_xlm_m3= pd.read_pickle(path)"
   ]
  },
  {
   "cell_type": "code",
   "execution_count": 59,
   "id": "bf5779db-351e-42d9-b4ca-7eb01930ae6a",
   "metadata": {},
   "outputs": [
    {
     "name": "stdout",
     "output_type": "stream",
     "text": [
      "len df merged: 1119\n",
      "data shape:  (1119, 1)\n",
      "sample size: 559\n",
      "h0: h0 - h1: h1\n",
      "targs count:    ['class 0 freq 399 perc 35.66%', 'class 1 freq 720 perc 64.34%']\n",
      "h0 preds count: ['class 0 freq 256 perc 22.88%', 'class 1 freq 863 perc 77.12%']\n",
      "h1 preds count: ['class 0 freq 342 perc 30.56%', 'class 1 freq 777 perc 69.44%']\n",
      "F-measure...... - h0: 0.8090  - h1: 0.9082  - diff: 0.0992\n",
      "precision...... - h0: 0.8741  - h1: 0.9275  - diff: 0.0534\n",
      "recall......... - h0: 0.7877  - h1: 0.8955  - diff: 0.1078\n",
      "accuracy....... - h0: 0.8418  - h1: 0.9187  - diff: 0.0769\n"
     ]
    },
    {
     "name": "stderr",
     "output_type": "stream",
     "text": [
      "bootstrap: 100%|███████████████████████████| 1000/1000 [00:08<00:00, 112.57it/s]"
     ]
    },
    {
     "name": "stdout",
     "output_type": "stream",
     "text": [
      "\n",
      "count sample diff f1   is twice tot diff f1....... 0    / 1000    p < 0.0    \u001b[38;5;9m**\u001b[0m\n",
      "count sample diff prec is twice tot diff prec..... 0    / 1000    p < 0.0    \u001b[38;5;9m**\u001b[0m\n",
      "count sample diff rec  is twice tot diff rec ..... 0    / 1000    p < 0.0    \u001b[38;5;9m**\u001b[0m\n",
      "count sample diff acc  is twice tot diff acc...... 0    / 1000    p < 0.0    \u001b[38;5;9m**\u001b[0m\n"
     ]
    },
    {
     "name": "stderr",
     "output_type": "stream",
     "text": [
      "\n"
     ]
    }
   ],
   "source": [
    "# gender comprasion with baseline m3\n",
    "df_xlm_m3['male_f1_agg'] = 1 - df_xlm_m3['gender_f1_agg']\n",
    "\n",
    "df_xlm_m3_g = df_xlm_m3[['user_id', 'male_f1_agg']]\n",
    "\n",
    "df_xlm_m3_g.columns =  ['user_id', 'prediction']\n",
    "\n",
    "model_vs_m3_gender(df_gold[['user_id','male']], df_m3_big, df_xlm_m3_g)"
   ]
  },
  {
   "cell_type": "code",
   "execution_count": 60,
   "id": "e0a4fed3-abad-4db9-8e4d-9c3f4dd430ed",
   "metadata": {},
   "outputs": [],
   "source": [
    "# age\n",
    "df_xlm_m3_a = df_xlm_m3[['user_id', 'age_f1_agg']]\n",
    "df_xlm_m3_a.columns=  ['user_id', 'prediction']"
   ]
  },
  {
   "cell_type": "code",
   "execution_count": 61,
   "id": "ea6a0a2c-0319-4c3c-9e69-7498a750e2f2",
   "metadata": {},
   "outputs": [
    {
     "name": "stdout",
     "output_type": "stream",
     "text": [
      "len df merged: 1087\n",
      "data shape:  (1087, 1)\n",
      "sample size: 543\n",
      "h0: h0 - h1: h1\n",
      "targs count:    ['class 0 freq 88 perc 8.10%', 'class 1 freq 231 perc 21.25%', 'class 2 freq 214 perc 19.69%', 'class 3 freq 554 perc 50.97%']\n",
      "h0 preds count: ['class 0 freq 123 perc 11.32%', 'class 1 freq 140 perc 12.88%', 'class 2 freq 171 perc 15.73%', 'class 3 freq 653 perc 60.07%']\n",
      "h1 preds count: ['class 0 freq 64 perc 5.89%', 'class 1 freq 238 perc 21.90%', 'class 2 freq 217 perc 19.96%', 'class 3 freq 568 perc 52.25%']\n",
      "F-measure...... - h0: 0.4171  - h1: 0.6008  - diff: 0.1837\n",
      "precision...... - h0: 0.4307  - h1: 0.6252  - diff: 0.1945\n",
      "recall......... - h0: 0.4223  - h1: 0.5846  - diff: 0.1623\n",
      "accuracy....... - h0: 0.5363  - h1: 0.6615  - diff: 0.1252\n"
     ]
    },
    {
     "name": "stderr",
     "output_type": "stream",
     "text": [
      "bootstrap: 100%|███████████████████████████| 1000/1000 [00:08<00:00, 114.61it/s]"
     ]
    },
    {
     "name": "stdout",
     "output_type": "stream",
     "text": [
      "\n",
      "count sample diff f1   is twice tot diff f1....... 0    / 1000    p < 0.0    \u001b[38;5;9m**\u001b[0m\n",
      "count sample diff prec is twice tot diff prec..... 0    / 1000    p < 0.0    \u001b[38;5;9m**\u001b[0m\n",
      "count sample diff rec  is twice tot diff rec ..... 0    / 1000    p < 0.0    \u001b[38;5;9m**\u001b[0m\n",
      "count sample diff acc  is twice tot diff acc...... 0    / 1000    p < 0.0    \u001b[38;5;9m**\u001b[0m\n"
     ]
    },
    {
     "name": "stderr",
     "output_type": "stream",
     "text": [
      "\n"
     ]
    }
   ],
   "source": [
    "model_vs_m3_age(df_gold[['user_id','age_class']], df_m3_bia, df_xlm_bta)"
   ]
  },
  {
   "cell_type": "code",
   "execution_count": null,
   "id": "49e02a95-5ab3-4903-8cf1-3fd9fcb08e5b",
   "metadata": {},
   "outputs": [],
   "source": []
  }
 ],
 "metadata": {
  "kernelspec": {
   "display_name": "DASK 2022.10 (Python 3.10)",
   "language": "python",
   "name": "python3"
  },
  "language_info": {
   "codemirror_mode": {
    "name": "ipython",
    "version": 3
   },
   "file_extension": ".py",
   "mimetype": "text/x-python",
   "name": "python",
   "nbconvert_exporter": "python",
   "pygments_lexer": "ipython3",
   "version": "3.10.6"
  }
 },
 "nbformat": 4,
 "nbformat_minor": 5
}
