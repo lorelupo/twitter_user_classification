{
 "cells": [
  {
   "cell_type": "code",
   "execution_count": 4,
   "id": "006af121-bd31-40e7-b605-dbd5a35644c3",
   "metadata": {},
   "outputs": [],
   "source": [
    "import shutil\n",
    "import os\n",
    "import numpy as np\n",
    "import pandas as pd\n",
    "import json\n",
    "from collections import OrderedDict\n",
    "from sklearn.metrics import accuracy_score, f1_score"
   ]
  },
  {
   "cell_type": "code",
   "execution_count": 5,
   "id": "82777946-edd9-4fda-af07-aceeb9e1083b",
   "metadata": {},
   "outputs": [],
   "source": [
    "home_dir = '/g100/home/userexternal/mhabibi0/'\n",
    "work_dir = '/g100_work/IscrC_mental'\n",
    "\n",
    "hdata_dir = os.path.join(home_dir, 'Data')\n",
    "wdata_dir = os.path.join(work_dir, 'data')\n",
    "uc_dir = os.path.join(wdata_dir, 'user_classification')"
   ]
  },
  {
   "cell_type": "code",
   "execution_count": 18,
   "id": "0e363661-c18c-4212-a74e-cd14bb841809",
   "metadata": {},
   "outputs": [],
   "source": [
    "def json_to_df(data_json):\n",
    "    rows = []\n",
    "    \n",
    "    for user_id, data in data_json.items():\n",
    "        row = {}\n",
    "        row['user_id'] = user_id\n",
    "        row['score_female'] = data['gender'].get('female', 0)\n",
    "        row['score_male'] = data['gender'].get('male', 0)\n",
    "        \n",
    "        age_classes = list(data['age'].values())\n",
    "        for idx, age_value in enumerate(age_classes):\n",
    "            row[f'score_age_cls_{idx}'] = age_value\n",
    "        \n",
    "        rows.append(row)\n",
    "    \n",
    "    df = pd.DataFrame(rows)\n",
    "    \n",
    "    df['user_id'] = df['user_id'].astype(int)\n",
    "    # Add pred_male column\n",
    "    df['pred_male'] = (df['score_male'] > 0.5).astype(int)\n",
    "    \n",
    "    # Add pred_age column\n",
    "    age_cols = [f'score_age_cls_{i}' for i in range(4)]  # Assuming 4 age classes\n",
    "    df['pred_age'] = df[age_cols].idxmax(axis=1).str.replace('score_age_cls_', '').astype(int)\n",
    "    \n",
    "    \n",
    "    return df"
   ]
  },
  {
   "cell_type": "code",
   "execution_count": 19,
   "id": "5e6b1e93-2e45-4936-a8ef-561934fabd9c",
   "metadata": {},
   "outputs": [],
   "source": [
    "def compute_metrics(ground_labels, pred_labels):\n",
    "\n",
    "    accuracy = accuracy_score(ground_labels, pred_labels)\n",
    "    macro_f1 = f1_score(ground_labels, pred_labels, average='macro')\n",
    "\n",
    "    metrics = {\n",
    "        'accuracy': accuracy,\n",
    "        'f1': macro_f1\n",
    "    }\n",
    "\n",
    "    return metrics"
   ]
  },
  {
   "cell_type": "markdown",
   "id": "3383a3dd-fa83-4e50-8d7f-601f2e41afe4",
   "metadata": {},
   "source": [
    "### Test Set Eval"
   ]
  },
  {
   "cell_type": "code",
   "execution_count": 6,
   "id": "887bfc94-642f-494e-b400-ebe06ed35204",
   "metadata": {},
   "outputs": [],
   "source": [
    "# read test data\n",
    "path  = os.path.join(uc_dir, 'data_for_models_test.pkl')\n",
    "df = pd.read_pickle(path)\n",
    "df['male'] = df['is_male'].astype(int)\n",
    "\n",
    "# Discretize the 'age' column into four classes\n",
    "age_intervals = [0, 19, 30, 40, 100]\n",
    "age_labels = [0, 1, 2, 3]\n",
    "df = df[df['age']<=99]\n",
    "df['age_class'] = pd.cut(df['age'], bins=age_intervals, labels=age_labels, right=False).astype(int)\n",
    "\n",
    "\n",
    "df = df[['user_id', 'male','age_class']]"
   ]
  },
  {
   "cell_type": "code",
   "execution_count": 7,
   "id": "fc6fb067-38d8-42c7-93b3-d58c4da17917",
   "metadata": {},
   "outputs": [],
   "source": [
    "# M3 results bio + images\n",
    "path = os.path.join(uc_dir, 'M3_results_test_bio_image.json')\n",
    "with open(path, 'r') as f:\n",
    "    data_bio_image = json.load(f)\n",
    "    \n",
    "    \n",
    "# M3 results bio + images\n",
    "path = os.path.join(uc_dir, 'M3_results_test_bio_only.json')\n",
    "with open(path, 'r') as f:\n",
    "    data_bio_only = json.load(f)"
   ]
  },
  {
   "cell_type": "code",
   "execution_count": 9,
   "id": "f670a764-ffd4-4774-887b-2d219fe7eec9",
   "metadata": {},
   "outputs": [],
   "source": [
    "df_img_bio = json_to_df(data_bio_image)\n",
    "df_bio_only = json_to_df(data_bio_only)"
   ]
  },
  {
   "cell_type": "code",
   "execution_count": 10,
   "id": "675d0762-86cf-4b8c-b396-83d63c0ee76e",
   "metadata": {},
   "outputs": [],
   "source": [
    "# merge with ground labels\n",
    "df_res_img_bio = df.merge(df_img_bio[['user_id', 'pred_male', 'pred_age']], on='user_id')\n",
    "df_res_bio_only = df.merge(df_bio_only[['user_id', 'pred_male', 'pred_age']], on='user_id')"
   ]
  },
  {
   "cell_type": "code",
   "execution_count": 14,
   "id": "aec9077f-bc31-49c6-b3b4-cec4385e2760",
   "metadata": {},
   "outputs": [
    {
     "data": {
      "text/plain": [
       "{'accuracy': 0.8444846292947559, 'f1': 0.8126346892544076}"
      ]
     },
     "execution_count": 14,
     "metadata": {},
     "output_type": "execute_result"
    }
   ],
   "source": [
    "# metrics bio+image gender\n",
    "ground = df_res_img_bio['male'].values\n",
    "preds = df_res_img_bio['pred_male'].values\n",
    "compute_metrics(ground, preds)"
   ]
  },
  {
   "cell_type": "code",
   "execution_count": 15,
   "id": "48549f58-ec09-480b-866a-9921c9766d95",
   "metadata": {},
   "outputs": [
    {
     "data": {
      "text/plain": [
       "{'accuracy': 0.5343580470162749, 'f1': 0.414423400211818}"
      ]
     },
     "execution_count": 15,
     "metadata": {},
     "output_type": "execute_result"
    }
   ],
   "source": [
    "# metrics bio+image age\n",
    "ground = df_res_img_bio['age_class'].values\n",
    "preds = df_res_img_bio['pred_age'].values\n",
    "compute_metrics(ground, preds)"
   ]
  },
  {
   "cell_type": "code",
   "execution_count": 16,
   "id": "61cc3f79-ee0f-42a5-a42c-b16dd6550df9",
   "metadata": {},
   "outputs": [
    {
     "data": {
      "text/plain": [
       "{'accuracy': 0.6698841698841699, 'f1': 0.5747555197096481}"
      ]
     },
     "execution_count": 16,
     "metadata": {},
     "output_type": "execute_result"
    }
   ],
   "source": [
    "# metrics bio only gender\n",
    "ground = df_res_bio_only['male'].values\n",
    "preds = df_res_bio_only['pred_male'].values\n",
    "compute_metrics(ground, preds)"
   ]
  },
  {
   "cell_type": "code",
   "execution_count": 17,
   "id": "e4f81429-1ebf-41b9-b39b-4eed1164f376",
   "metadata": {},
   "outputs": [
    {
     "data": {
      "text/plain": [
       "{'accuracy': 0.2335907335907336, 'f1': 0.23164028541602913}"
      ]
     },
     "execution_count": 17,
     "metadata": {},
     "output_type": "execute_result"
    }
   ],
   "source": [
    "# metrics bio+image age\n",
    "ground = df_res_bio_only['age_class'].values\n",
    "preds = df_res_bio_only['pred_age'].values\n",
    "compute_metrics(ground, preds)"
   ]
  },
  {
   "cell_type": "code",
   "execution_count": 15,
   "id": "e6fac943-6a69-43e1-a99f-1bb1ef4105c3",
   "metadata": {},
   "outputs": [],
   "source": [
    "# save m3 data \n",
    "path = os.path.join(uc_dir,  'm3_scores_bio_image.pkl')\n",
    "df_img_bio.to_pickle(path)\n",
    "\n",
    "\n",
    "path = os.path.join(uc_dir, 'm3_scores_bio_only.pkl')\n",
    "df_bio_only.to_pickle(path)"
   ]
  },
  {
   "cell_type": "markdown",
   "id": "429954f4-9e59-4898-a9a3-bfe12a56dfbb",
   "metadata": {},
   "source": [
    "### German Data Eval"
   ]
  },
  {
   "cell_type": "code",
   "execution_count": 39,
   "id": "cc7afb67-ce99-4e91-baf7-5322ff6ecef9",
   "metadata": {},
   "outputs": [],
   "source": [
    "# read german data\n",
    "path  = os.path.join(uc_dir, 'german_data', 'data_for_models_german_data.pkl')\n",
    "df = pd.read_pickle(path)\n",
    "\n",
    "df['male'] = df['is_male'].astype(int)\n",
    "\n",
    "# Discretize the 'age' column into four classes\n",
    "age_intervals = [0, 19, 30, 40, 100]\n",
    "age_labels = [0, 1, 2, 3]\n",
    "df = df[((df['age']<=99) & (df['age']>=10))]\n",
    "df['age_class'] = pd.cut(df['age'], bins=age_intervals, labels=age_labels, right=False).astype(int)\n",
    "\n",
    "\n",
    "df = df[['user_id', 'male','age_class']]"
   ]
  },
  {
   "cell_type": "code",
   "execution_count": 40,
   "id": "65cdae69-83b7-4bd5-b8db-fc057444a9ac",
   "metadata": {},
   "outputs": [],
   "source": [
    "# M3 results bio + images\n",
    "path = os.path.join(uc_dir, 'M3_results_de_bio_image.json')\n",
    "with open(path, 'r') as f:\n",
    "    data_bio_image = json.load(f)\n",
    "    "
   ]
  },
  {
   "cell_type": "code",
   "execution_count": 41,
   "id": "e99cd013-0d36-49cd-9995-cdf287f0857a",
   "metadata": {},
   "outputs": [],
   "source": [
    "df_img_bio = json_to_df(data_bio_image)"
   ]
  },
  {
   "cell_type": "code",
   "execution_count": 42,
   "id": "27268970-dfdf-40c1-a76d-0d55067834f0",
   "metadata": {},
   "outputs": [],
   "source": [
    "# merge with ground labels\n",
    "df_res_img_bio = df.merge(df_img_bio[['user_id', 'pred_male', 'pred_age']], on='user_id')"
   ]
  },
  {
   "cell_type": "code",
   "execution_count": 37,
   "id": "d79aa2ef-e79a-417f-ab7b-0362d67cb7d2",
   "metadata": {},
   "outputs": [
    {
     "data": {
      "text/plain": [
       "{'accuracy': 0.805, 'f1': 0.5889328063241106}"
      ]
     },
     "execution_count": 37,
     "metadata": {},
     "output_type": "execute_result"
    }
   ],
   "source": [
    "# metrics bio+image gender\n",
    "ground = df_res_img_bio['male'].values\n",
    "preds = df_res_img_bio['pred_male'].values\n",
    "compute_metrics(ground, preds)"
   ]
  },
  {
   "cell_type": "code",
   "execution_count": 38,
   "id": "5398b393-6aea-4e0b-9b0a-829a319386f0",
   "metadata": {},
   "outputs": [
    {
     "data": {
      "text/plain": [
       "{'accuracy': 0.325, 'f1': 0.2631640244750382}"
      ]
     },
     "execution_count": 38,
     "metadata": {},
     "output_type": "execute_result"
    }
   ],
   "source": [
    "# metrics bio+image age\n",
    "ground = df_res_img_bio['age_class'].values\n",
    "preds = df_res_img_bio['pred_age'].values\n",
    "compute_metrics(ground, preds)"
   ]
  }
 ],
 "metadata": {
  "kernelspec": {
   "display_name": "DASK 2022.10 (Python 3.10)",
   "language": "python",
   "name": "python3"
  },
  "language_info": {
   "codemirror_mode": {
    "name": "ipython",
    "version": 3
   },
   "file_extension": ".py",
   "mimetype": "text/x-python",
   "name": "python",
   "nbconvert_exporter": "python",
   "pygments_lexer": "ipython3",
   "version": "3.10.6"
  }
 },
 "nbformat": 4,
 "nbformat_minor": 5
}
