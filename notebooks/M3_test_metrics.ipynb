{
 "cells": [
  {
   "cell_type": "code",
   "execution_count": 1,
   "id": "006af121-bd31-40e7-b605-dbd5a35644c3",
   "metadata": {},
   "outputs": [],
   "source": [
    "import shutil\n",
    "import os\n",
    "import numpy as np\n",
    "import pandas as pd\n",
    "import json\n",
    "from collections import OrderedDict\n",
    "from sklearn.metrics import accuracy_score, f1_score"
   ]
  },
  {
   "cell_type": "code",
   "execution_count": 2,
   "id": "82777946-edd9-4fda-af07-aceeb9e1083b",
   "metadata": {},
   "outputs": [],
   "source": [
    "home_dir = '/g100/home/userexternal/mhabibi0/'\n",
    "work_dir = '/g100_work/IscrC_mental'\n",
    "\n",
    "hdata_dir = os.path.join(home_dir, 'Data')\n",
    "wdata_dir = os.path.join(work_dir, 'data')\n",
    "uc_dir = os.path.join(wdata_dir, 'user_classification')"
   ]
  },
  {
   "cell_type": "code",
   "execution_count": 3,
   "id": "887bfc94-642f-494e-b400-ebe06ed35204",
   "metadata": {},
   "outputs": [],
   "source": [
    "# read test data\n",
    "path  = os.path.join(uc_dir, 'data_for_models_test.pkl')\n",
    "df = pd.read_pickle(path)\n",
    "df['male'] = df['is_male'].astype(int)\n",
    "\n",
    "# Discretize the 'age' column into four classes\n",
    "age_intervals = [0, 19, 30, 40, 100]\n",
    "age_labels = [0, 1, 2, 3]\n",
    "df['age_class'] = pd.cut(df['age'], bins=age_intervals, \n",
    "                         labels=age_labels, right=False)\n",
    "\n",
    "df = df[['user_id', 'male','age_class']]"
   ]
  },
  {
   "cell_type": "code",
   "execution_count": 4,
   "id": "fc6fb067-38d8-42c7-93b3-d58c4da17917",
   "metadata": {},
   "outputs": [],
   "source": [
    "# M3 results bio + images\n",
    "path = os.path.join(uc_dir, 'M3_results_test_bio_image.json')\n",
    "with open(path, 'r') as f:\n",
    "    data_bio_image = json.load(f)\n",
    "    \n",
    "    \n",
    "# M3 results bio + images\n",
    "path = os.path.join(uc_dir, 'M3_results_test_bio_only.json')\n",
    "with open(path, 'r') as f:\n",
    "    data_bio_only = json.load(f)"
   ]
  },
  {
   "cell_type": "code",
   "execution_count": 5,
   "id": "30a8db01-b16e-48fb-b62a-f931e3dbfa72",
   "metadata": {},
   "outputs": [],
   "source": [
    "def json_to_df(data_json):\n",
    "    rows = []\n",
    "    \n",
    "    for user_id, data in data_json.items():\n",
    "        row = {}\n",
    "        row['user_id'] = user_id\n",
    "        row['score_female'] = data['gender'].get('female', 0)\n",
    "        row['score_male'] = data['gender'].get('male', 0)\n",
    "        \n",
    "        age_classes = list(data['age'].values())\n",
    "        for idx, age_value in enumerate(age_classes):\n",
    "            row[f'score_age_cls_{idx}'] = age_value\n",
    "        \n",
    "        rows.append(row)\n",
    "    \n",
    "    df = pd.DataFrame(rows)\n",
    "    \n",
    "    df['user_id'] = df['user_id'].astype(int)\n",
    "    # Add pred_male column\n",
    "    df['pred_male'] = (df['score_male'] > 0.5).astype(int)\n",
    "    \n",
    "    # Add pred_age column\n",
    "    age_cols = [f'score_age_cls_{i}' for i in range(4)]  # Assuming 4 age classes\n",
    "    df['pred_age'] = df[age_cols].idxmax(axis=1).str.replace('score_age_cls_', '').astype(int)\n",
    "    \n",
    "    \n",
    "    return df"
   ]
  },
  {
   "cell_type": "code",
   "execution_count": 6,
   "id": "f670a764-ffd4-4774-887b-2d219fe7eec9",
   "metadata": {},
   "outputs": [],
   "source": [
    "df_img_bio = json_to_df(data_bio_image)\n",
    "df_bio_only = json_to_df(data_bio_only)"
   ]
  },
  {
   "cell_type": "code",
   "execution_count": 7,
   "id": "675d0762-86cf-4b8c-b396-83d63c0ee76e",
   "metadata": {},
   "outputs": [],
   "source": [
    "# merge with ground labels\n",
    "df_res_img_bio = df.merge(df_img_bio[['user_id', 'pred_male', 'pred_age']], on='user_id')\n",
    "df_res_bio_only = df.merge(df_bio_only[['user_id', 'pred_male', 'pred_age']], on='user_id')"
   ]
  },
  {
   "cell_type": "code",
   "execution_count": 8,
   "id": "752ec42c-99e0-460e-b47b-798688cc2e64",
   "metadata": {},
   "outputs": [],
   "source": [
    "def compute_metrics_gender(ground_labels, pred_labels):\n",
    "\n",
    "    accuracy = accuracy_score(ground_labels, pred_labels)\n",
    "    f1 = f1_score(ground_labels, pred_labels)\n",
    "\n",
    "    metrics = {'accuracy': accuracy,  'f1': f1 }\n",
    "\n",
    "    return metrics"
   ]
  },
  {
   "cell_type": "code",
   "execution_count": 9,
   "id": "4a32a0ba-dc0f-4ff4-a595-38af65b5ae3a",
   "metadata": {},
   "outputs": [],
   "source": [
    "def compute_metrics_age(ground_labels, pred_labels):\n",
    "\n",
    "    accuracy = accuracy_score(ground_labels, pred_labels)\n",
    "    macro_f1 = f1_score(ground_labels, pred_labels, average='macro')\n",
    "\n",
    "    metrics = {\n",
    "        'accuracy': accuracy,\n",
    "        'f1': macro_f1\n",
    "    }\n",
    "\n",
    "    return metrics"
   ]
  },
  {
   "cell_type": "code",
   "execution_count": 10,
   "id": "77bfdaac-74e9-448c-92b0-2f0c3913e2c4",
   "metadata": {},
   "outputs": [
    {
     "data": {
      "text/html": [
       "<div>\n",
       "<style scoped>\n",
       "    .dataframe tbody tr th:only-of-type {\n",
       "        vertical-align: middle;\n",
       "    }\n",
       "\n",
       "    .dataframe tbody tr th {\n",
       "        vertical-align: top;\n",
       "    }\n",
       "\n",
       "    .dataframe thead th {\n",
       "        text-align: right;\n",
       "    }\n",
       "</style>\n",
       "<table border=\"1\" class=\"dataframe\">\n",
       "  <thead>\n",
       "    <tr style=\"text-align: right;\">\n",
       "      <th></th>\n",
       "      <th>user_id</th>\n",
       "      <th>male</th>\n",
       "      <th>age_class</th>\n",
       "      <th>pred_male</th>\n",
       "      <th>pred_age</th>\n",
       "    </tr>\n",
       "  </thead>\n",
       "  <tbody>\n",
       "    <tr>\n",
       "      <th>0</th>\n",
       "      <td>7071362</td>\n",
       "      <td>1</td>\n",
       "      <td>2</td>\n",
       "      <td>1</td>\n",
       "      <td>3</td>\n",
       "    </tr>\n",
       "    <tr>\n",
       "      <th>1</th>\n",
       "      <td>9420092</td>\n",
       "      <td>0</td>\n",
       "      <td>1</td>\n",
       "      <td>0</td>\n",
       "      <td>2</td>\n",
       "    </tr>\n",
       "    <tr>\n",
       "      <th>2</th>\n",
       "      <td>11749412</td>\n",
       "      <td>0</td>\n",
       "      <td>1</td>\n",
       "      <td>1</td>\n",
       "      <td>2</td>\n",
       "    </tr>\n",
       "    <tr>\n",
       "      <th>3</th>\n",
       "      <td>14088579</td>\n",
       "      <td>0</td>\n",
       "      <td>2</td>\n",
       "      <td>0</td>\n",
       "      <td>3</td>\n",
       "    </tr>\n",
       "    <tr>\n",
       "      <th>4</th>\n",
       "      <td>14281831</td>\n",
       "      <td>1</td>\n",
       "      <td>3</td>\n",
       "      <td>1</td>\n",
       "      <td>1</td>\n",
       "    </tr>\n",
       "    <tr>\n",
       "      <th>...</th>\n",
       "      <td>...</td>\n",
       "      <td>...</td>\n",
       "      <td>...</td>\n",
       "      <td>...</td>\n",
       "      <td>...</td>\n",
       "    </tr>\n",
       "    <tr>\n",
       "      <th>1102</th>\n",
       "      <td>1492598652535197706</td>\n",
       "      <td>1</td>\n",
       "      <td>1</td>\n",
       "      <td>1</td>\n",
       "      <td>3</td>\n",
       "    </tr>\n",
       "    <tr>\n",
       "      <th>1103</th>\n",
       "      <td>1500578379036246016</td>\n",
       "      <td>0</td>\n",
       "      <td>2</td>\n",
       "      <td>0</td>\n",
       "      <td>2</td>\n",
       "    </tr>\n",
       "    <tr>\n",
       "      <th>1104</th>\n",
       "      <td>1511727485737648132</td>\n",
       "      <td>1</td>\n",
       "      <td>3</td>\n",
       "      <td>1</td>\n",
       "      <td>3</td>\n",
       "    </tr>\n",
       "    <tr>\n",
       "      <th>1105</th>\n",
       "      <td>1578278161598521347</td>\n",
       "      <td>0</td>\n",
       "      <td>0</td>\n",
       "      <td>0</td>\n",
       "      <td>0</td>\n",
       "    </tr>\n",
       "    <tr>\n",
       "      <th>1106</th>\n",
       "      <td>1604232779406909442</td>\n",
       "      <td>0</td>\n",
       "      <td>3</td>\n",
       "      <td>1</td>\n",
       "      <td>3</td>\n",
       "    </tr>\n",
       "  </tbody>\n",
       "</table>\n",
       "<p>1107 rows × 5 columns</p>\n",
       "</div>"
      ],
      "text/plain": [
       "                  user_id  male age_class  pred_male  pred_age\n",
       "0                 7071362     1         2          1         3\n",
       "1                 9420092     0         1          0         2\n",
       "2                11749412     0         1          1         2\n",
       "3                14088579     0         2          0         3\n",
       "4                14281831     1         3          1         1\n",
       "...                   ...   ...       ...        ...       ...\n",
       "1102  1492598652535197706     1         1          1         3\n",
       "1103  1500578379036246016     0         2          0         2\n",
       "1104  1511727485737648132     1         3          1         3\n",
       "1105  1578278161598521347     0         0          0         0\n",
       "1106  1604232779406909442     0         3          1         3\n",
       "\n",
       "[1107 rows x 5 columns]"
      ]
     },
     "execution_count": 10,
     "metadata": {},
     "output_type": "execute_result"
    }
   ],
   "source": [
    "df_res_img_bio"
   ]
  },
  {
   "cell_type": "code",
   "execution_count": 11,
   "id": "aec9077f-bc31-49c6-b3b4-cec4385e2760",
   "metadata": {},
   "outputs": [
    {
     "data": {
      "text/plain": [
       "{'accuracy': 0.8446251129177959, 'f1': 0.8900255754475703}"
      ]
     },
     "execution_count": 11,
     "metadata": {},
     "output_type": "execute_result"
    }
   ],
   "source": [
    "# metrics bio+image gender\n",
    "ground = df_res_img_bio['male'].values\n",
    "preds = df_res_img_bio['pred_male'].values\n",
    "compute_metrics_gender(ground, preds)"
   ]
  },
  {
   "cell_type": "code",
   "execution_count": 12,
   "id": "48549f58-ec09-480b-866a-9921c9766d95",
   "metadata": {},
   "outputs": [
    {
     "data": {
      "text/plain": [
       "{'accuracy': 0.4995483288166215, 'f1': 0.3885457107003571}"
      ]
     },
     "execution_count": 12,
     "metadata": {},
     "output_type": "execute_result"
    }
   ],
   "source": [
    "# metrics bio+image age\n",
    "ground = df_res_img_bio['age_class'].values\n",
    "preds = df_res_img_bio['pred_age'].values\n",
    "compute_metrics_age(ground, preds)"
   ]
  },
  {
   "cell_type": "code",
   "execution_count": 13,
   "id": "61cc3f79-ee0f-42a5-a42c-b16dd6550df9",
   "metadata": {},
   "outputs": [
    {
     "data": {
      "text/plain": [
       "{'accuracy': 0.6705202312138728, 'f1': 0.7764705882352941}"
      ]
     },
     "execution_count": 13,
     "metadata": {},
     "output_type": "execute_result"
    }
   ],
   "source": [
    "# metrics bio only gender\n",
    "ground = df_res_bio_only['male'].values\n",
    "preds = df_res_bio_only['pred_male'].values\n",
    "compute_metrics_gender(ground, preds)"
   ]
  },
  {
   "cell_type": "code",
   "execution_count": 14,
   "id": "e4f81429-1ebf-41b9-b39b-4eed1164f376",
   "metadata": {},
   "outputs": [
    {
     "data": {
      "text/plain": [
       "{'accuracy': 0.2504816955684008, 'f1': 0.24911210202130918}"
      ]
     },
     "execution_count": 14,
     "metadata": {},
     "output_type": "execute_result"
    }
   ],
   "source": [
    "# metrics bio+image age\n",
    "ground = df_res_bio_only['age_class'].values\n",
    "preds = df_res_bio_only['pred_age'].values\n",
    "compute_metrics_age(ground, preds)"
   ]
  },
  {
   "cell_type": "code",
   "execution_count": 15,
   "id": "e6fac943-6a69-43e1-a99f-1bb1ef4105c3",
   "metadata": {},
   "outputs": [],
   "source": [
    "# save m3 data \n",
    "path = os.path.join(uc_dir,  'm3_scores_bio_image.pkl')\n",
    "df_img_bio.to_pickle(path)\n",
    "\n",
    "\n",
    "path = os.path.join(uc_dir, 'm3_scores_bio_only.pkl')\n",
    "df_bio_only.to_pickle(path)"
   ]
  },
  {
   "cell_type": "code",
   "execution_count": null,
   "id": "2a0c1f68-8e4b-4df5-8054-3472eb8d8854",
   "metadata": {},
   "outputs": [],
   "source": []
  }
 ],
 "metadata": {
  "kernelspec": {
   "display_name": "DASK 2022.10 (Python 3.10)",
   "language": "python",
   "name": "python3"
  },
  "language_info": {
   "codemirror_mode": {
    "name": "ipython",
    "version": 3
   },
   "file_extension": ".py",
   "mimetype": "text/x-python",
   "name": "python",
   "nbconvert_exporter": "python",
   "pygments_lexer": "ipython3",
   "version": "3.10.6"
  }
 },
 "nbformat": 4,
 "nbformat_minor": 5
}
