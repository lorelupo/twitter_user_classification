{
 "cells": [
  {
   "attachments": {},
   "cell_type": "markdown",
   "metadata": {},
   "source": [
    "# Prepare manual eval"
   ]
  },
  {
   "cell_type": "code",
   "execution_count": 21,
   "metadata": {},
   "outputs": [],
   "source": [
    "import pandas as pd"
   ]
  },
  {
   "cell_type": "code",
   "execution_count": 22,
   "metadata": {},
   "outputs": [
    {
     "name": "stdout",
     "output_type": "stream",
     "text": [
      "(1200, 37)\n",
      "Index(['tweet_id', 'user_id', 'created_at', 'tweet', 'status', 'regex_type',\n",
      "       'regex_idx', 'age_raw', 'year_tweet', 'age_in_2023', 'age_when_tweeted',\n",
      "       'username', 'full_name', 'location', 'join_year', 'join_month', 'bio',\n",
      "       'join_day', 'tweets', 'following', 'followers', 'likes', 'loc_count',\n",
      "       'location_clean', 'foreign_country', 'all_regions', 'region_pos',\n",
      "       'region', 'term_for_italy', 'name_city_engl', 'condition', 'city_id',\n",
      "       'all_cities', 'city_pos', 'region_code', 'is_male', 'user_has_image'],\n",
      "      dtype='object')\n"
     ]
    }
   ],
   "source": [
    "# read pandas dataframe from pickle file\n",
    "df = pd.read_pickle('../data/user_classification/user_age_gender_location_manual_eval.pkl')\n",
    "print(df.shape)\n",
    "print(df.columns)"
   ]
  },
  {
   "cell_type": "code",
   "execution_count": 23,
   "metadata": {},
   "outputs": [],
   "source": [
    "# drop all columns but \"full name\" and \"is_male\"\n",
    "dfp = df.drop([c for c in df.columns if (c != \"full_name\" and c != \"is_male\" and c != \"user_id\" and c != \"username\")], axis=1)\n",
    "# sort by is_male\n",
    "dfp.sort_values('is_male', inplace=True)"
   ]
  },
  {
   "cell_type": "code",
   "execution_count": 24,
   "metadata": {},
   "outputs": [],
   "source": [
    "# save to excel file\n",
    "dfp.to_excel('../data/user_classification/gender_manual_eval_v2.xlsx', index=False)"
   ]
  },
  {
   "cell_type": "code",
   "execution_count": null,
   "metadata": {},
   "outputs": [],
   "source": []
  }
 ],
 "metadata": {
  "kernelspec": {
   "display_name": "mentalenv",
   "language": "python",
   "name": "python3"
  },
  "language_info": {
   "codemirror_mode": {
    "name": "ipython",
    "version": 3
   },
   "file_extension": ".py",
   "mimetype": "text/x-python",
   "name": "python",
   "nbconvert_exporter": "python",
   "pygments_lexer": "ipython3",
   "version": "3.10.8"
  },
  "orig_nbformat": 4
 },
 "nbformat": 4,
 "nbformat_minor": 2
}
