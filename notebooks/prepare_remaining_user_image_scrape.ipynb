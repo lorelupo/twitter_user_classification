{
 "cells": [
  {
   "cell_type": "code",
   "execution_count": 9,
   "id": "520f59c4-ee29-4c23-91a9-73bbaede4795",
   "metadata": {},
   "outputs": [],
   "source": [
    "#get remaining users that need to be scraped for images\n",
    "import pandas as pd\n",
    "import joblib"
   ]
  },
  {
   "cell_type": "code",
   "execution_count": 2,
   "id": "276e017e-6345-464b-b1c2-0cbb508fc346",
   "metadata": {},
   "outputs": [],
   "source": [
    "df_de = pd.read_pickle('/g100_work/IscrC_mental/data/user_classification/german_data/data_for_models_german_data.pkl')"
   ]
  },
  {
   "cell_type": "code",
   "execution_count": 7,
   "id": "72444241-ae26-429e-a8b2-3f7a1f395246",
   "metadata": {},
   "outputs": [],
   "source": [
    "users_de = list(set(df_de.user_id.values.tolist()))"
   ]
  },
  {
   "cell_type": "code",
   "execution_count": 100,
   "id": "c49fdb4f-7682-4ef3-a97f-961b5c0a4373",
   "metadata": {},
   "outputs": [],
   "source": [
    "tw_de = pd.read_pickle('/g100_work/IscrC_mental/data/user_classification/german_data/german_tweets.pkl')"
   ]
  },
  {
   "cell_type": "code",
   "execution_count": 101,
   "id": "f547a62c-9da8-491e-94d9-71f95e9e6895",
   "metadata": {},
   "outputs": [],
   "source": [
    "tw_de['date'] = pd.to_datetime(tw_de.created_at)\n",
    "md_de = tw_de.groupby('user_id').agg({'date':'max'}).reset_index()\n",
    "tw_de = tw_de.merge(md_de,on=['user_id','date'],how='inner')\n",
    "tw_de = tw_de.loc[tw_de['user_id'].isin(users_de),'id'].values.tolist()\n",
    "tw_de = [str(int(x)) for x in tw_de]"
   ]
  },
  {
   "cell_type": "code",
   "execution_count": 10,
   "id": "92a80653-2ad6-4ff2-8670-133c3616f683",
   "metadata": {},
   "outputs": [],
   "source": [
    "df_it = pd.read_pickle('/g100_work/IscrC_mental/data/user_classification/user_age_gender_location_train_set.pkl')"
   ]
  },
  {
   "cell_type": "code",
   "execution_count": 81,
   "id": "2c443ac5-2b54-4e94-a43d-1aebf27c8001",
   "metadata": {},
   "outputs": [],
   "source": [
    "users_it = list(set(df_it[-df_it.user_has_image].user_id.values.tolist()))"
   ]
  },
  {
   "cell_type": "code",
   "execution_count": 84,
   "id": "c306c4b9-7c7a-43e4-b35a-17437fb2c395",
   "metadata": {},
   "outputs": [],
   "source": [
    "df_twt = pd.read_pickle('/g100_work/IscrC_mental/data/user_classification/tweets_by_user_id_clean.pkl')\n",
    "df_twt['date'] = pd.to_datetime(df_twt.created_at)\n",
    "md = df_twt.groupby('user_id').agg({'date':'max'}).reset_index()\n",
    "tw_it = df_twt.merge(md,on=['user_id','date'],how='inner')\n",
    "tw_it = tw_it.loc[tw_it['user_id'].isin(users_it),'tweet_id'].values.tolist()\n",
    "tw_it = [str(int(x)) for x in tw_it]"
   ]
  },
  {
   "cell_type": "code",
   "execution_count": 106,
   "id": "f259a647-bf2e-4469-8899-382a2e773dd0",
   "metadata": {},
   "outputs": [],
   "source": [
    "all_tweets = tw_it + tw_de"
   ]
  },
  {
   "cell_type": "code",
   "execution_count": 107,
   "id": "4347b28d-129b-4cd9-9ee2-8814df3b1991",
   "metadata": {},
   "outputs": [
    {
     "data": {
      "text/plain": [
       "['/g100_work/IscrC_mental/data/user_classification/images/users_wo_image.pkl']"
      ]
     },
     "execution_count": 107,
     "metadata": {},
     "output_type": "execute_result"
    }
   ],
   "source": [
    "joblib.dump(all_tweets,\"/g100_work/IscrC_mental/data/user_classification/images/users_wo_image.pkl\")"
   ]
  },
  {
   "cell_type": "code",
   "execution_count": 109,
   "id": "69fa8a65-2754-460f-9ea9-4c2852caeca0",
   "metadata": {},
   "outputs": [
    {
     "data": {
      "text/plain": [
       "9796"
      ]
     },
     "execution_count": 109,
     "metadata": {},
     "output_type": "execute_result"
    }
   ],
   "source": [
    "len(all_tweets)"
   ]
  },
  {
   "cell_type": "code",
   "execution_count": null,
   "id": "6d1a5b7f-cd0f-4bda-84a4-b9ac1c4cd241",
   "metadata": {},
   "outputs": [],
   "source": []
  }
 ],
 "metadata": {
  "kernelspec": {
   "display_name": "mentalenv",
   "language": "python",
   "name": "mentalenv"
  },
  "language_info": {
   "codemirror_mode": {
    "name": "ipython",
    "version": 3
   },
   "file_extension": ".py",
   "mimetype": "text/x-python",
   "name": "python",
   "nbconvert_exporter": "python",
   "pygments_lexer": "ipython3",
   "version": "3.10.11"
  }
 },
 "nbformat": 4,
 "nbformat_minor": 5
}
