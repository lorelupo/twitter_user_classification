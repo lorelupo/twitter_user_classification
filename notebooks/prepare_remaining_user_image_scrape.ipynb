{
 "cells": [
  {
   "cell_type": "code",
   "execution_count": 1,
   "id": "520f59c4-ee29-4c23-91a9-73bbaede4795",
   "metadata": {},
   "outputs": [],
   "source": [
    "#get users that need to be scraped for images\n",
    "import pandas as pd\n",
    "import joblib\n",
    "import numpy as np"
   ]
  },
  {
   "cell_type": "code",
   "execution_count": 4,
   "id": "276e017e-6345-464b-b1c2-0cbb508fc346",
   "metadata": {},
   "outputs": [],
   "source": [
    "df_de = pd.read_pickle('/g100_work/IscrC_mental/data/user_classification/german_data/data_for_models_german_data.pkl')"
   ]
  },
  {
   "cell_type": "code",
   "execution_count": 5,
   "id": "72444241-ae26-429e-a8b2-3f7a1f395246",
   "metadata": {},
   "outputs": [],
   "source": [
    "users_de = list(set(df_de.user_id.values.tolist()))"
   ]
  },
  {
   "cell_type": "code",
   "execution_count": 6,
   "id": "c49fdb4f-7682-4ef3-a97f-961b5c0a4373",
   "metadata": {},
   "outputs": [],
   "source": [
    "tw_de = pd.read_pickle('/g100_work/IscrC_mental/data/user_classification/german_data/german_tweets.pkl')"
   ]
  },
  {
   "cell_type": "code",
   "execution_count": 5,
   "id": "f547a62c-9da8-491e-94d9-71f95e9e6895",
   "metadata": {},
   "outputs": [],
   "source": [
    "tw_de['date'] = pd.to_datetime(tw_de.created_at)\n",
    "tw_de = tw_de[np.logical_not(tw_de.text.str.startswith('RT @'))].copy()\n",
    "md_de = tw_de.groupby('user_id').agg({'date':'max'}).reset_index()\n",
    "tw_de = tw_de.merge(md_de,on=['user_id','date'],how='inner')\n",
    "tw_de = tw_de.loc[tw_de['user_id'].isin(users_de),'id'].values.tolist()\n",
    "tw_de = [str(int(x)) for x in tw_de]"
   ]
  },
  {
   "cell_type": "code",
   "execution_count": 6,
   "id": "92a80653-2ad6-4ff2-8670-133c3616f683",
   "metadata": {},
   "outputs": [],
   "source": [
    "df_it = pd.read_pickle('/g100_work/IscrC_mental/data/user_classification/user_age_gender_location_train_set.pkl')"
   ]
  },
  {
   "cell_type": "code",
   "execution_count": 8,
   "id": "2c443ac5-2b54-4e94-a43d-1aebf27c8001",
   "metadata": {},
   "outputs": [],
   "source": [
    "users_it = list(set(df_it.user_id.values.tolist()))"
   ]
  },
  {
   "cell_type": "code",
   "execution_count": 6,
   "id": "c306c4b9-7c7a-43e4-b35a-17437fb2c395",
   "metadata": {},
   "outputs": [],
   "source": [
    "df_twt = pd.read_pickle('/g100_work/IscrC_mental/data/user_classification/tweets_by_user_id_clean.pkl')\n",
    "df_twt['date'] = pd.to_datetime(df_twt.created_at)"
   ]
  },
  {
   "cell_type": "code",
   "execution_count": 7,
   "id": "6eb9ce65-1bd1-45e7-9334-d16d9121ef44",
   "metadata": {},
   "outputs": [],
   "source": [
    "df_twt = df_twt[np.logical_not(df_twt.RT)].copy()"
   ]
  },
  {
   "cell_type": "code",
   "execution_count": 8,
   "id": "28bafff4-54e7-4d89-ac94-cd64640000dc",
   "metadata": {},
   "outputs": [],
   "source": [
    "md = df_twt.groupby('user_id').agg({'date':'max'}).reset_index()\n",
    "tw_it = df_twt.merge(md,on=['user_id','date'],how='inner')\n",
    "tw_it = tw_it['tweet_id'].values.tolist()\n",
    "tw_it = [str(int(x)) for x in tw_it]"
   ]
  },
  {
   "cell_type": "code",
   "execution_count": 9,
   "id": "f259a647-bf2e-4469-8899-382a2e773dd0",
   "metadata": {},
   "outputs": [],
   "source": [
    "all_tweets = tw_it + tw_de"
   ]
  },
  {
   "cell_type": "code",
   "execution_count": 10,
   "id": "4347b28d-129b-4cd9-9ee2-8814df3b1991",
   "metadata": {},
   "outputs": [
    {
     "data": {
      "text/plain": [
       "['/g100_work/IscrC_mental/data/user_classification/images/users_wo_image.pkl']"
      ]
     },
     "execution_count": 10,
     "metadata": {},
     "output_type": "execute_result"
    }
   ],
   "source": [
    "joblib.dump(all_tweets,\"/g100_work/IscrC_mental/data/user_classification/images/users_wo_image.pkl\")"
   ]
  },
  {
   "cell_type": "markdown",
   "id": "aded8381-94a6-42f7-93cd-8acbdd31784c",
   "metadata": {},
   "source": [
    "## round 2 check the failed tweets and use the second newest in that case"
   ]
  },
  {
   "cell_type": "code",
   "execution_count": 2,
   "id": "ab33b677-da4c-4d95-8f89-f401898ff547",
   "metadata": {},
   "outputs": [],
   "source": [
    "#create a new list with users who had a failed tweet\n",
    "tw_de = pd.read_pickle('/g100_work/IscrC_mental/data/user_classification/german_data/german_tweets.pkl')\n",
    "tw_de['date'] = pd.to_datetime(tw_de.created_at)\n",
    "tw_de = tw_de[np.logical_not(tw_de.text.str.startswith('RT @'))].copy()"
   ]
  },
  {
   "cell_type": "code",
   "execution_count": 3,
   "id": "2f56d747-d087-477b-ac0c-ea7b1b9fd011",
   "metadata": {},
   "outputs": [],
   "source": [
    "failed = joblib.load(\"/g100_work/IscrC_mental/data/user_classification/images/failed.pkl\")"
   ]
  },
  {
   "cell_type": "code",
   "execution_count": 4,
   "id": "ff8bfb85-d36d-472e-8c87-19c4e267d579",
   "metadata": {},
   "outputs": [],
   "source": [
    "failed_users = tw_de.loc[tw_de['id'].isin(failed),'user_id'].values.tolist()\n",
    "df_failed = tw_de[tw_de['user_id'].isin(failed_users)]"
   ]
  },
  {
   "cell_type": "code",
   "execution_count": 5,
   "id": "c161503d-cdba-42eb-b0cd-b84199e31d62",
   "metadata": {},
   "outputs": [],
   "source": [
    "md_f_de = df_failed.groupby('user_id').agg({'date':'max'}).reset_index()\n",
    "df_failed = df_failed.merge(md_f_de,on=['user_id','date'],how='left',indicator=True)\n",
    "df_failed = df_failed[df_failed['_merge']!='both']"
   ]
  },
  {
   "cell_type": "code",
   "execution_count": 6,
   "id": "a84acbbb-84b0-4f68-9452-8072d7a7c9e2",
   "metadata": {},
   "outputs": [],
   "source": [
    "md_f_de = df_failed.groupby('user_id').agg({'date':'max'}).reset_index()\n",
    "df_failed = df_failed.merge(md_f_de,on=['user_id','date'],how='inner')\n",
    "df_failed = df_failed['id'].values.tolist()\n",
    "de_ids = [str(int(x)) for x in df_failed]"
   ]
  },
  {
   "cell_type": "code",
   "execution_count": 7,
   "id": "f02e3820-44d5-4dbe-b322-3e0f8d971922",
   "metadata": {},
   "outputs": [],
   "source": [
    "df_twt = pd.read_pickle('/g100_work/IscrC_mental/data/user_classification/tweets_by_user_id_clean.pkl')\n",
    "df_twt['date'] = pd.to_datetime(df_twt.created_at)\n",
    "df_twt = df_twt[np.logical_not(df_twt.RT)].copy()"
   ]
  },
  {
   "cell_type": "code",
   "execution_count": 8,
   "id": "a96300c4-4cf7-4179-a9f3-95948f52fa59",
   "metadata": {},
   "outputs": [],
   "source": [
    "failed_users = df_twt.loc[df_twt['tweet_id'].isin(failed),'user_id'].values.tolist()\n",
    "df_failed = df_twt[df_twt['user_id'].isin(failed_users)]"
   ]
  },
  {
   "cell_type": "code",
   "execution_count": 9,
   "id": "198d0da9-b450-4ba7-a0ab-93c897f2699c",
   "metadata": {},
   "outputs": [],
   "source": [
    "md_f_it = df_failed.groupby('user_id').agg({'date':'max'}).reset_index()\n",
    "df_failed = df_failed.merge(md_f_it,on=['user_id','date'],how='left',indicator=True)\n",
    "df_failed = df_failed[df_failed['_merge']!='both']"
   ]
  },
  {
   "cell_type": "code",
   "execution_count": 10,
   "id": "3c142e1e-95ca-4c0e-88ee-33322ba90c3e",
   "metadata": {},
   "outputs": [],
   "source": [
    "md_f_it = df_failed.groupby('user_id').agg({'date':'max'}).reset_index()\n",
    "df_failed = df_failed.merge(md_f_it,on=['user_id','date'],how='inner')\n",
    "df_failed = df_failed['tweet_id'].values.tolist()\n",
    "it_ids = [str(int(x)) for x in df_failed]"
   ]
  },
  {
   "cell_type": "code",
   "execution_count": 13,
   "id": "0bca85d7-cc6f-4fb8-959e-22fdb76c3d3f",
   "metadata": {},
   "outputs": [],
   "source": [
    "all_ids = it_ids + de_ids"
   ]
  },
  {
   "cell_type": "code",
   "execution_count": 15,
   "id": "012e8b62-2aa8-4805-a0a8-82291a78b256",
   "metadata": {},
   "outputs": [
    {
     "data": {
      "text/plain": [
       "['/g100_work/IscrC_mental/data/user_classification/images/users_wo_image_r2.pkl']"
      ]
     },
     "execution_count": 15,
     "metadata": {},
     "output_type": "execute_result"
    }
   ],
   "source": [
    "joblib.dump(all_ids,\"/g100_work/IscrC_mental/data/user_classification/images/users_wo_image_r2.pkl\")"
   ]
  },
  {
   "cell_type": "markdown",
   "id": "8811c0d0-bc84-47f8-97ba-5ae20de102f2",
   "metadata": {},
   "source": [
    "## moving files"
   ]
  },
  {
   "cell_type": "code",
   "execution_count": 2,
   "id": "6d1a5b7f-cd0f-4bda-84a4-b9ac1c4cd241",
   "metadata": {},
   "outputs": [],
   "source": [
    "import os\n",
    "import shutil\n",
    "from tqdm import tqdm\n",
    "import glob"
   ]
  },
  {
   "cell_type": "code",
   "execution_count": 3,
   "id": "5cbfb75e-4e14-4203-8434-7db66f5f1694",
   "metadata": {},
   "outputs": [],
   "source": [
    "base_path = '/g100_work/IscrC_mental/data/user_classification/images/'"
   ]
  },
  {
   "cell_type": "code",
   "execution_count": 12,
   "id": "f55b7e73-3004-4d66-8b69-a13787ff85db",
   "metadata": {},
   "outputs": [
    {
     "name": "stderr",
     "output_type": "stream",
     "text": [
      "100%|██████████| 19200/19200 [00:36<00:00, 519.56it/s]\n"
     ]
    }
   ],
   "source": [
    "for user in tqdm(users_it):\n",
    "    try:\n",
    "        src = os.path.join(base_path,f'new_scrape/{user}.jpg')\n",
    "        dest = os.path.join(base_path,f'train/{user}.jpg')\n",
    "        shutil.move(src,dest)\n",
    "    except FileNotFoundError:\n",
    "        pass"
   ]
  },
  {
   "cell_type": "code",
   "execution_count": 19,
   "id": "05303f73-58c4-49d2-b483-db2d17e7ff73",
   "metadata": {},
   "outputs": [],
   "source": [
    "ni=glob.glob(f'{base_path}new_scrape/*')"
   ]
  },
  {
   "cell_type": "code",
   "execution_count": null,
   "id": "3dd359c8-a1d2-4bed-898f-a9e2248ce9ae",
   "metadata": {},
   "outputs": [],
   "source": []
  }
 ],
 "metadata": {
  "kernelspec": {
   "display_name": "mentalenv",
   "language": "python",
   "name": "mentalenv"
  },
  "language_info": {
   "codemirror_mode": {
    "name": "ipython",
    "version": 3
   },
   "file_extension": ".py",
   "mimetype": "text/x-python",
   "name": "python",
   "nbconvert_exporter": "python",
   "pygments_lexer": "ipython3",
   "version": "3.10.11"
  }
 },
 "nbformat": 4,
 "nbformat_minor": 5
}
